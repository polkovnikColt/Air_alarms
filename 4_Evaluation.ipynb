{
 "cells": [
  {
   "cell_type": "markdown",
   "id": "97050562",
   "metadata": {},
   "source": [
    "# Evaluation\n",
    "**Table of content**\n",
    "\n",
    "* [Prepare functions](#prepare_functions)\n",
    "* [Tune models](#tuning)\n",
    "    * [Save best parametes](#save_best)\n",
    "* [Retrain models on best parameters](#retrain)\n",
    "* [Find top features](#top_features)\n",
    "    * [RFC](#rfc_top)\n",
    "    * [LR](#lr_top)\n",
    "    * [MLP](#mlp_top)"
   ]
  },
  {
   "cell_type": "code",
   "execution_count": 1,
   "id": "6ad540d1",
   "metadata": {},
   "outputs": [],
   "source": [
    "import datetime\n",
    "import numpy as np\n",
    "import pandas as pd\n",
    "from joblib import parallel_backend\n",
    "from typing import Dict, List, Union\n",
    "from tqdm import tqdm\n",
    "import os\n",
    "import pathlib\n",
    "import scipy\n",
    "import itertools\n",
    "import matplotlib.pyplot as plt\n",
    "from sklearn.experimental import enable_halving_search_cv\n",
    "from sklearn.model_selection import train_test_split\n",
    "from sklearn.tree import DecisionTreeClassifier\n",
    "from sklearn.linear_model import LogisticRegression\n",
    "from sklearn.ensemble import RandomForestClassifier\n",
    "from sklearn.linear_model import SGDClassifier\n",
    "from sklearn.neural_network import MLPClassifier\n",
    "from sklearn.svm import SVC\n",
    "from sklearn.model_selection import GridSearchCV, HalvingGridSearchCV\n",
    "from sklearn import metrics\n",
    "from sklearn.model_selection import TimeSeriesSplit\n",
    "from sklearn.metrics import classification_report\n",
    "from sklearn.metrics import confusion_matrix\n",
    "import seaborn as sns\n",
    "import pickle\n",
    "\n",
    "from utils.metrics_evaluation import display_metrics\n",
    "\n",
    "param_grid_LR = {\"C\": [0.1, 1, 100], \"penalty\": ['l1', 'l2'],\n",
    "                \"solver\": [\"lbfgs\", \"liblinear\", \"newton-cg\", \"newton-cholesky\", \"sag\", \"saga\"],\n",
    "                \"multi_class\": [\"ovr\"],\n",
    "                \"n_jobs\": [4],\n",
    "                \"max_iter\": [10]}\n",
    "param_grid_RFC = {'n_estimators': [2, 5, 10],\"criterion\": [\"gini\", \"entropy\", \"log_loss\"],\"max_features\": [\"sqrt\", \"log2\"]}\n",
    "\n",
    "param_grid_MLP = {\"activation\": [\"identity\", \"logistic\", \"tanh\", \"relu\"], \"solver\": ['sgd', 'adam'], \"alpha\": [0.0001, 0.001, 0.05, 0.1], \n",
    "\"max_iter\": [5, 10]}\n",
    "\n",
    "data_path = '/home/vlad/Документы/sparse.npz'\n",
    "y_path = '/home/vlad/Документы/y.csv'\n",
    "\n",
    "df_all_data = scipy.sparse.load_npz(data_path)\n",
    "y = pd.read_csv(y_path)[\"is_alarm\"]\n",
    "\n",
    "tss = TimeSeriesSplit(n_splits=5)\n",
    "for train_index, test_index in tss.split(df_all_data):\n",
    "    X_train, X_test = df_all_data[train_index], df_all_data[test_index]\n",
    "    y_train, y_test = y.iloc[train_index], y.iloc[test_index]\n"
   ]
  },
  {
   "cell_type": "code",
   "execution_count": 2,
   "id": "47acfec6",
   "metadata": {},
   "outputs": [],
   "source": [
    "feature_names = ['day_tempmax', 'day_tempmin', 'day_temp', 'day_dew',\n",
    "       'day_humidity', 'day_precip', 'day_precipcover', 'day_solarradiation',\n",
    "       'day_solarenergy', 'day_uvindex', 'day_moonphase', 'hour_temp',\n",
    "       'hour_humidity', 'hour_dew', 'hour_precip', 'hour_precipprob',\n",
    "       'hour_snow', 'hour_snowdepth', 'hour_windgust', 'hour_windspeed',\n",
    "       'hour_winddir', 'hour_pressure', 'hour_visibility', 'hour_cloudcover',\n",
    "       'hour_solarradiation', 'hour_uvindex', 'hour_severerisk', 'region_id',\n",
    "       'hour_conditions_id']"
   ]
  },
  {
   "cell_type": "markdown",
   "id": "643d4ddd",
   "metadata": {},
   "source": [
    "## Prepare functions <a class=\"anchor\" id=\"prepare_functions\"></a>"
   ]
  },
  {
   "cell_type": "code",
   "execution_count": 3,
   "id": "557e3000",
   "metadata": {},
   "outputs": [],
   "source": [
    "def get_combinations_of_parameters(parameters: Dict[str, List[int]]):\n",
    "    keys = list(parameters.keys())\n",
    "    values = list(parameters.values())\n",
    "    combinations = list(itertools.product(*values))\n",
    "    return keys, combinations\n",
    "\n",
    "def remove_impossible_combinations(combinations):\n",
    "    print(f\"{len(combinations)} combinations before removing impossible\")\n",
    "    combinations_copy = combinations.copy()\n",
    "    impossible_combinations = [[\"newton-cg\", \"l1\"], [\"newton-cg\", \"elasticnet\"],\n",
    "                               [\"newton-cholesky\", \"l1\"], [\"newton-cholesky\", \"elasticnet\"],\n",
    "                               [\"sag\", \"l1\"], [\"sag\", \"elasticnet\"],\n",
    "                              [\"liblinear\", \"elasticnet\"], [\"liblinear\", \"None\"],\n",
    "                              [\"lbfgs\", \"l1\"], [\"lbfgs\", \"elasticnet\"]]\n",
    "    for combination in combinations_copy:\n",
    "        for impossible_combination in impossible_combinations:\n",
    "            if set(impossible_combination).issubset(combination):\n",
    "                combinations.remove(combination)\n",
    "                break\n",
    "    \n",
    "    print(f\"{len(combinations)} combinations after removing impossible\")\n",
    "    return combinations\n",
    "\n",
    "\n",
    "def create_dict_of_model_params(param_names: List[str], param_values: List[Union[str, int, float]]):\n",
    "    model_params = {param_names[item]: param_values[item] for item in range(len(param_names))}\n",
    "    return model_params\n",
    "\n",
    "\n",
    "def train_model_on_different_sets_of_params(model_type, \n",
    "                                            param_names,\n",
    "                                            param_combinations, \n",
    "                                            X_train, \n",
    "                                            X_test, \n",
    "                                            y_train, \n",
    "                                            y_test):   \n",
    "    all_accuracies = []\n",
    "    \n",
    "    for i, combination in tqdm(enumerate(param_combinations)):\n",
    "\n",
    "        parameters_dict = create_dict_of_model_params(param_names, combination)\n",
    "        parameters_dict[\"random_state\"] = 0\n",
    "        \n",
    "        model = model_type(**parameters_dict)         \n",
    "        model.fit(X_train, y_train)\n",
    "        predictions = model.predict(X_test)\n",
    "        accuracy = metrics.accuracy_score(y_test, predictions)\n",
    "        print(f\"Calculated accuracy: {accuracy}\")\n",
    "        all_accuracies.append(accuracy)\n",
    "        print(f\"Train {i} done!\")\n",
    "        \n",
    "    return all_accuracies\n",
    "\n",
    "\n",
    "def get_best_params(accuracies, params_combinations):\n",
    "    index_of_max_accuracy = accuracies.index(max(accuracies))\n",
    "    \n",
    "    max_accuracy = max(accuracies)\n",
    "    best_combination = params_combinations[index_of_max_accuracy]\n",
    "    \n",
    "    return max_accuracy, best_combination\n",
    "\n",
    "def tune_hyperparameters(model_type, parameters, X_train, X_test, y_train, y_test):\n",
    "    print(\"Create all combinations of parametes for test\")\n",
    "    param_names, params_combinations = get_combinations_of_parameters(parameters)\n",
    "    \n",
    "    params_possible_combinations = remove_impossible_combinations(params_combinations)\n",
    "    \n",
    "    print(\"Start train model on different combinations\")\n",
    "    all_accuracies = train_model_on_different_sets_of_params(model_type, \n",
    "                                                             param_names,\n",
    "                                                             params_possible_combinations, \n",
    "                                                             X_train, \n",
    "                                                             X_test, \n",
    "                                                             y_train, \n",
    "                                                             y_test)\n",
    "    \n",
    "    print(f\"Search the best accuracy\")\n",
    "    max_accuracy, best_combination = get_best_params(all_accuracies, params_possible_combinations)\n",
    "\n",
    "    return max_accuracy, best_combination"
   ]
  },
  {
   "cell_type": "markdown",
   "id": "0cfb0faa",
   "metadata": {},
   "source": [
    "## Tune models <a class=\"anchor\" id=\"tuning\"></a>"
   ]
  },
  {
   "cell_type": "code",
   "execution_count": 3,
   "id": "2e72db30",
   "metadata": {
    "scrolled": true
   },
   "outputs": [
    {
     "name": "stdout",
     "output_type": "stream",
     "text": [
      "Create all combinations of parametes for test\n",
      "64 combinations before removing impossible\n",
      "64 combinations after removing impossible\n",
      "Start train model on different combinations\n"
     ]
    },
    {
     "name": "stderr",
     "output_type": "stream",
     "text": [
      "0it [00:00, ?it/s]/home/vlad/miniconda3/envs/yolov8/lib/python3.10/site-packages/sklearn/neural_network/_multilayer_perceptron.py:686: ConvergenceWarning: Stochastic Optimizer: Maximum iterations (5) reached and the optimization hasn't converged yet.\n",
      "  warnings.warn(\n",
      "1it [03:47, 227.19s/it]"
     ]
    },
    {
     "name": "stdout",
     "output_type": "stream",
     "text": [
      "Calculated accuracy: 0.8342280691404637\n",
      "Train 0 done!\n"
     ]
    },
    {
     "name": "stderr",
     "output_type": "stream",
     "text": [
      "/home/vlad/miniconda3/envs/yolov8/lib/python3.10/site-packages/sklearn/neural_network/_multilayer_perceptron.py:686: ConvergenceWarning: Stochastic Optimizer: Maximum iterations (10) reached and the optimization hasn't converged yet.\n",
      "  warnings.warn(\n",
      "2it [10:42, 337.81s/it]"
     ]
    },
    {
     "name": "stdout",
     "output_type": "stream",
     "text": [
      "Calculated accuracy: 0.830393487109905\n",
      "Train 1 done!\n"
     ]
    },
    {
     "name": "stderr",
     "output_type": "stream",
     "text": [
      "/home/vlad/miniconda3/envs/yolov8/lib/python3.10/site-packages/sklearn/neural_network/_multilayer_perceptron.py:686: ConvergenceWarning: Stochastic Optimizer: Maximum iterations (5) reached and the optimization hasn't converged yet.\n",
      "  warnings.warn(\n",
      "3it [14:12, 279.30s/it]"
     ]
    },
    {
     "name": "stdout",
     "output_type": "stream",
     "text": [
      "Calculated accuracy: 0.8342280691404637\n",
      "Train 2 done!\n"
     ]
    },
    {
     "name": "stderr",
     "output_type": "stream",
     "text": [
      "/home/vlad/miniconda3/envs/yolov8/lib/python3.10/site-packages/sklearn/neural_network/_multilayer_perceptron.py:686: ConvergenceWarning: Stochastic Optimizer: Maximum iterations (10) reached and the optimization hasn't converged yet.\n",
      "  warnings.warn(\n",
      "4it [21:06, 332.47s/it]"
     ]
    },
    {
     "name": "stdout",
     "output_type": "stream",
     "text": [
      "Calculated accuracy: 0.830393487109905\n",
      "Train 3 done!\n"
     ]
    },
    {
     "name": "stderr",
     "output_type": "stream",
     "text": [
      "/home/vlad/miniconda3/envs/yolov8/lib/python3.10/site-packages/sklearn/neural_network/_multilayer_perceptron.py:686: ConvergenceWarning: Stochastic Optimizer: Maximum iterations (5) reached and the optimization hasn't converged yet.\n",
      "  warnings.warn(\n",
      "5it [24:35, 288.17s/it]"
     ]
    },
    {
     "name": "stdout",
     "output_type": "stream",
     "text": [
      "Calculated accuracy: 0.8342280691404637\n",
      "Train 4 done!\n"
     ]
    },
    {
     "name": "stderr",
     "output_type": "stream",
     "text": [
      "/home/vlad/miniconda3/envs/yolov8/lib/python3.10/site-packages/sklearn/neural_network/_multilayer_perceptron.py:686: ConvergenceWarning: Stochastic Optimizer: Maximum iterations (10) reached and the optimization hasn't converged yet.\n",
      "  warnings.warn(\n",
      "6it [31:31, 331.61s/it]"
     ]
    },
    {
     "name": "stdout",
     "output_type": "stream",
     "text": [
      "Calculated accuracy: 0.8304229838947554\n",
      "Train 5 done!\n"
     ]
    },
    {
     "name": "stderr",
     "output_type": "stream",
     "text": [
      "/home/vlad/miniconda3/envs/yolov8/lib/python3.10/site-packages/sklearn/neural_network/_multilayer_perceptron.py:686: ConvergenceWarning: Stochastic Optimizer: Maximum iterations (5) reached and the optimization hasn't converged yet.\n",
      "  warnings.warn(\n",
      "7it [35:00, 291.46s/it]"
     ]
    },
    {
     "name": "stdout",
     "output_type": "stream",
     "text": [
      "Calculated accuracy: 0.8342280691404637\n",
      "Train 6 done!\n"
     ]
    },
    {
     "name": "stderr",
     "output_type": "stream",
     "text": [
      "/home/vlad/miniconda3/envs/yolov8/lib/python3.10/site-packages/sklearn/neural_network/_multilayer_perceptron.py:686: ConvergenceWarning: Stochastic Optimizer: Maximum iterations (10) reached and the optimization hasn't converged yet.\n",
      "  warnings.warn(\n",
      "8it [41:56, 331.03s/it]"
     ]
    },
    {
     "name": "stdout",
     "output_type": "stream",
     "text": [
      "Calculated accuracy: 0.8304819774644564\n",
      "Train 7 done!\n"
     ]
    },
    {
     "name": "stderr",
     "output_type": "stream",
     "text": [
      "/home/vlad/miniconda3/envs/yolov8/lib/python3.10/site-packages/sklearn/neural_network/_multilayer_perceptron.py:686: ConvergenceWarning: Stochastic Optimizer: Maximum iterations (5) reached and the optimization hasn't converged yet.\n",
      "  warnings.warn(\n",
      "9it [45:38, 296.92s/it]"
     ]
    },
    {
     "name": "stdout",
     "output_type": "stream",
     "text": [
      "Calculated accuracy: 0.8323992684797357\n",
      "Train 8 done!\n"
     ]
    },
    {
     "name": "stderr",
     "output_type": "stream",
     "text": [
      "/home/vlad/miniconda3/envs/yolov8/lib/python3.10/site-packages/sklearn/neural_network/_multilayer_perceptron.py:686: ConvergenceWarning: Stochastic Optimizer: Maximum iterations (10) reached and the optimization hasn't converged yet.\n",
      "  warnings.warn(\n",
      "10it [53:01, 342.27s/it]"
     ]
    },
    {
     "name": "stdout",
     "output_type": "stream",
     "text": [
      "Calculated accuracy: 0.8357324051678368\n",
      "Train 9 done!\n"
     ]
    },
    {
     "name": "stderr",
     "output_type": "stream",
     "text": [
      "/home/vlad/miniconda3/envs/yolov8/lib/python3.10/site-packages/sklearn/neural_network/_multilayer_perceptron.py:686: ConvergenceWarning: Stochastic Optimizer: Maximum iterations (5) reached and the optimization hasn't converged yet.\n",
      "  warnings.warn(\n",
      "11it [56:47, 306.67s/it]"
     ]
    },
    {
     "name": "stdout",
     "output_type": "stream",
     "text": [
      "Calculated accuracy: 0.832163294200932\n",
      "Train 10 done!\n"
     ]
    },
    {
     "name": "stderr",
     "output_type": "stream",
     "text": [
      "/home/vlad/miniconda3/envs/yolov8/lib/python3.10/site-packages/sklearn/neural_network/_multilayer_perceptron.py:686: ConvergenceWarning: Stochastic Optimizer: Maximum iterations (10) reached and the optimization hasn't converged yet.\n",
      "  warnings.warn(\n",
      "12it [1:04:10, 347.93s/it]"
     ]
    },
    {
     "name": "stdout",
     "output_type": "stream",
     "text": [
      "Calculated accuracy: 0.8364403280042475\n",
      "Train 11 done!\n"
     ]
    },
    {
     "name": "stderr",
     "output_type": "stream",
     "text": [
      "/home/vlad/miniconda3/envs/yolov8/lib/python3.10/site-packages/sklearn/neural_network/_multilayer_perceptron.py:686: ConvergenceWarning: Stochastic Optimizer: Maximum iterations (5) reached and the optimization hasn't converged yet.\n",
      "  warnings.warn(\n",
      "13it [1:07:55, 310.65s/it]"
     ]
    },
    {
     "name": "stdout",
     "output_type": "stream",
     "text": [
      "Calculated accuracy: 0.8231077812518436\n",
      "Train 12 done!\n"
     ]
    },
    {
     "name": "stderr",
     "output_type": "stream",
     "text": [
      "/home/vlad/miniconda3/envs/yolov8/lib/python3.10/site-packages/sklearn/neural_network/_multilayer_perceptron.py:686: ConvergenceWarning: Stochastic Optimizer: Maximum iterations (10) reached and the optimization hasn't converged yet.\n",
      "  warnings.warn(\n",
      "14it [1:15:26, 353.21s/it]"
     ]
    },
    {
     "name": "stdout",
     "output_type": "stream",
     "text": [
      "Calculated accuracy: 0.8320158102766798\n",
      "Train 13 done!\n"
     ]
    },
    {
     "name": "stderr",
     "output_type": "stream",
     "text": [
      "/home/vlad/miniconda3/envs/yolov8/lib/python3.10/site-packages/sklearn/neural_network/_multilayer_perceptron.py:686: ConvergenceWarning: Stochastic Optimizer: Maximum iterations (5) reached and the optimization hasn't converged yet.\n",
      "  warnings.warn(\n",
      "15it [1:19:11, 314.65s/it]"
     ]
    },
    {
     "name": "stdout",
     "output_type": "stream",
     "text": [
      "Calculated accuracy: 0.8147306943543153\n",
      "Train 14 done!\n"
     ]
    },
    {
     "name": "stderr",
     "output_type": "stream",
     "text": [
      "/home/vlad/miniconda3/envs/yolov8/lib/python3.10/site-packages/sklearn/neural_network/_multilayer_perceptron.py:686: ConvergenceWarning: Stochastic Optimizer: Maximum iterations (10) reached and the optimization hasn't converged yet.\n",
      "  warnings.warn(\n",
      "16it [1:26:38, 354.45s/it]"
     ]
    },
    {
     "name": "stdout",
     "output_type": "stream",
     "text": [
      "Calculated accuracy: 0.8311014099463159\n",
      "Train 15 done!\n"
     ]
    },
    {
     "name": "stderr",
     "output_type": "stream",
     "text": [
      "/home/vlad/miniconda3/envs/yolov8/lib/python3.10/site-packages/sklearn/neural_network/_multilayer_perceptron.py:686: ConvergenceWarning: Stochastic Optimizer: Maximum iterations (5) reached and the optimization hasn't converged yet.\n",
      "  warnings.warn(\n",
      "17it [1:30:09, 311.22s/it]"
     ]
    },
    {
     "name": "stdout",
     "output_type": "stream",
     "text": [
      "Calculated accuracy: 0.8342280691404637\n",
      "Train 16 done!\n"
     ]
    },
    {
     "name": "stderr",
     "output_type": "stream",
     "text": [
      "/home/vlad/miniconda3/envs/yolov8/lib/python3.10/site-packages/sklearn/neural_network/_multilayer_perceptron.py:686: ConvergenceWarning: Stochastic Optimizer: Maximum iterations (10) reached and the optimization hasn't converged yet.\n",
      "  warnings.warn(\n",
      "18it [1:37:07, 343.42s/it]"
     ]
    },
    {
     "name": "stdout",
     "output_type": "stream",
     "text": [
      "Calculated accuracy: 0.8342280691404637\n",
      "Train 17 done!\n"
     ]
    },
    {
     "name": "stderr",
     "output_type": "stream",
     "text": [
      "/home/vlad/miniconda3/envs/yolov8/lib/python3.10/site-packages/sklearn/neural_network/_multilayer_perceptron.py:686: ConvergenceWarning: Stochastic Optimizer: Maximum iterations (5) reached and the optimization hasn't converged yet.\n",
      "  warnings.warn(\n",
      "19it [1:40:51, 307.49s/it]"
     ]
    },
    {
     "name": "stdout",
     "output_type": "stream",
     "text": [
      "Calculated accuracy: 0.8342280691404637\n",
      "Train 18 done!\n"
     ]
    },
    {
     "name": "stderr",
     "output_type": "stream",
     "text": [
      "/home/vlad/miniconda3/envs/yolov8/lib/python3.10/site-packages/sklearn/neural_network/_multilayer_perceptron.py:686: ConvergenceWarning: Stochastic Optimizer: Maximum iterations (10) reached and the optimization hasn't converged yet.\n",
      "  warnings.warn(\n",
      "20it [1:48:01, 344.27s/it]"
     ]
    },
    {
     "name": "stdout",
     "output_type": "stream",
     "text": [
      "Calculated accuracy: 0.8342280691404637\n",
      "Train 19 done!\n"
     ]
    },
    {
     "name": "stderr",
     "output_type": "stream",
     "text": [
      "/home/vlad/miniconda3/envs/yolov8/lib/python3.10/site-packages/sklearn/neural_network/_multilayer_perceptron.py:686: ConvergenceWarning: Stochastic Optimizer: Maximum iterations (5) reached and the optimization hasn't converged yet.\n",
      "  warnings.warn(\n",
      "21it [1:51:46, 308.28s/it]"
     ]
    },
    {
     "name": "stdout",
     "output_type": "stream",
     "text": [
      "Calculated accuracy: 0.8342280691404637\n",
      "Train 20 done!\n"
     ]
    },
    {
     "name": "stderr",
     "output_type": "stream",
     "text": [
      "/home/vlad/miniconda3/envs/yolov8/lib/python3.10/site-packages/sklearn/neural_network/_multilayer_perceptron.py:686: ConvergenceWarning: Stochastic Optimizer: Maximum iterations (10) reached and the optimization hasn't converged yet.\n",
      "  warnings.warn(\n",
      "22it [1:59:04, 347.25s/it]"
     ]
    },
    {
     "name": "stdout",
     "output_type": "stream",
     "text": [
      "Calculated accuracy: 0.8342280691404637\n",
      "Train 21 done!\n"
     ]
    },
    {
     "name": "stderr",
     "output_type": "stream",
     "text": [
      "/home/vlad/miniconda3/envs/yolov8/lib/python3.10/site-packages/sklearn/neural_network/_multilayer_perceptron.py:686: ConvergenceWarning: Stochastic Optimizer: Maximum iterations (5) reached and the optimization hasn't converged yet.\n",
      "  warnings.warn(\n",
      "23it [2:02:36, 306.91s/it]"
     ]
    },
    {
     "name": "stdout",
     "output_type": "stream",
     "text": [
      "Calculated accuracy: 0.8342280691404637\n",
      "Train 22 done!\n"
     ]
    },
    {
     "name": "stderr",
     "output_type": "stream",
     "text": [
      "/home/vlad/miniconda3/envs/yolov8/lib/python3.10/site-packages/sklearn/neural_network/_multilayer_perceptron.py:686: ConvergenceWarning: Stochastic Optimizer: Maximum iterations (10) reached and the optimization hasn't converged yet.\n",
      "  warnings.warn(\n",
      "24it [2:09:40, 341.81s/it]"
     ]
    },
    {
     "name": "stdout",
     "output_type": "stream",
     "text": [
      "Calculated accuracy: 0.8342280691404637\n",
      "Train 23 done!\n"
     ]
    },
    {
     "name": "stderr",
     "output_type": "stream",
     "text": [
      "/home/vlad/miniconda3/envs/yolov8/lib/python3.10/site-packages/sklearn/neural_network/_multilayer_perceptron.py:686: ConvergenceWarning: Stochastic Optimizer: Maximum iterations (5) reached and the optimization hasn't converged yet.\n",
      "  warnings.warn(\n",
      "25it [2:13:30, 308.25s/it]"
     ]
    },
    {
     "name": "stdout",
     "output_type": "stream",
     "text": [
      "Calculated accuracy: 0.832546752403988\n",
      "Train 24 done!\n"
     ]
    },
    {
     "name": "stderr",
     "output_type": "stream",
     "text": [
      "/home/vlad/miniconda3/envs/yolov8/lib/python3.10/site-packages/sklearn/neural_network/_multilayer_perceptron.py:686: ConvergenceWarning: Stochastic Optimizer: Maximum iterations (10) reached and the optimization hasn't converged yet.\n",
      "  warnings.warn(\n",
      "26it [2:21:35, 361.38s/it]"
     ]
    },
    {
     "name": "stdout",
     "output_type": "stream",
     "text": [
      "Calculated accuracy: 0.8200106188425461\n",
      "Train 25 done!\n"
     ]
    },
    {
     "name": "stderr",
     "output_type": "stream",
     "text": [
      "/home/vlad/miniconda3/envs/yolov8/lib/python3.10/site-packages/sklearn/neural_network/_multilayer_perceptron.py:686: ConvergenceWarning: Stochastic Optimizer: Maximum iterations (5) reached and the optimization hasn't converged yet.\n",
      "  warnings.warn(\n",
      "27it [2:25:28, 322.76s/it]"
     ]
    },
    {
     "name": "stdout",
     "output_type": "stream",
     "text": [
      "Calculated accuracy: 0.8305114742493068\n",
      "Train 26 done!\n"
     ]
    },
    {
     "name": "stderr",
     "output_type": "stream",
     "text": [
      "/home/vlad/miniconda3/envs/yolov8/lib/python3.10/site-packages/sklearn/neural_network/_multilayer_perceptron.py:686: ConvergenceWarning: Stochastic Optimizer: Maximum iterations (10) reached and the optimization hasn't converged yet.\n",
      "  warnings.warn(\n",
      "28it [2:33:32, 371.37s/it]"
     ]
    },
    {
     "name": "stdout",
     "output_type": "stream",
     "text": [
      "Calculated accuracy: 0.8215149548699192\n",
      "Train 27 done!\n"
     ]
    },
    {
     "name": "stderr",
     "output_type": "stream",
     "text": [
      "/home/vlad/miniconda3/envs/yolov8/lib/python3.10/site-packages/sklearn/neural_network/_multilayer_perceptron.py:686: ConvergenceWarning: Stochastic Optimizer: Maximum iterations (5) reached and the optimization hasn't converged yet.\n",
      "  warnings.warn(\n",
      "29it [2:37:40, 334.31s/it]"
     ]
    },
    {
     "name": "stdout",
     "output_type": "stream",
     "text": [
      "Calculated accuracy: 0.8201286059819479\n",
      "Train 28 done!\n"
     ]
    },
    {
     "name": "stderr",
     "output_type": "stream",
     "text": [
      "/home/vlad/miniconda3/envs/yolov8/lib/python3.10/site-packages/sklearn/neural_network/_multilayer_perceptron.py:686: ConvergenceWarning: Stochastic Optimizer: Maximum iterations (10) reached and the optimization hasn't converged yet.\n",
      "  warnings.warn(\n",
      "30it [2:45:49, 380.70s/it]"
     ]
    },
    {
     "name": "stdout",
     "output_type": "stream",
     "text": [
      "Calculated accuracy: 0.8133443454663442\n",
      "Train 29 done!\n"
     ]
    },
    {
     "name": "stderr",
     "output_type": "stream",
     "text": [
      "/home/vlad/miniconda3/envs/yolov8/lib/python3.10/site-packages/sklearn/neural_network/_multilayer_perceptron.py:686: ConvergenceWarning: Stochastic Optimizer: Maximum iterations (5) reached and the optimization hasn't converged yet.\n",
      "  warnings.warn(\n",
      "31it [2:49:57, 340.78s/it]"
     ]
    },
    {
     "name": "stdout",
     "output_type": "stream",
     "text": [
      "Calculated accuracy: 0.8228423101881895\n",
      "Train 30 done!\n"
     ]
    },
    {
     "name": "stderr",
     "output_type": "stream",
     "text": [
      "/home/vlad/miniconda3/envs/yolov8/lib/python3.10/site-packages/sklearn/neural_network/_multilayer_perceptron.py:686: ConvergenceWarning: Stochastic Optimizer: Maximum iterations (10) reached and the optimization hasn't converged yet.\n",
      "  warnings.warn(\n",
      "32it [2:57:39, 377.27s/it]"
     ]
    },
    {
     "name": "stdout",
     "output_type": "stream",
     "text": [
      "Calculated accuracy: 0.832812223467642\n",
      "Train 31 done!\n"
     ]
    },
    {
     "name": "stderr",
     "output_type": "stream",
     "text": [
      "/home/vlad/miniconda3/envs/yolov8/lib/python3.10/site-packages/sklearn/neural_network/_multilayer_perceptron.py:686: ConvergenceWarning: Stochastic Optimizer: Maximum iterations (5) reached and the optimization hasn't converged yet.\n",
      "  warnings.warn(\n",
      "33it [3:01:12, 327.83s/it]"
     ]
    },
    {
     "name": "stdout",
     "output_type": "stream",
     "text": [
      "Calculated accuracy: 0.8342280691404637\n",
      "Train 32 done!\n"
     ]
    },
    {
     "name": "stderr",
     "output_type": "stream",
     "text": [
      "/home/vlad/miniconda3/envs/yolov8/lib/python3.10/site-packages/sklearn/neural_network/_multilayer_perceptron.py:686: ConvergenceWarning: Stochastic Optimizer: Maximum iterations (10) reached and the optimization hasn't converged yet.\n",
      "  warnings.warn(\n",
      "34it [3:08:18, 357.23s/it]"
     ]
    },
    {
     "name": "stdout",
     "output_type": "stream",
     "text": [
      "Calculated accuracy: 0.8342280691404637\n",
      "Train 33 done!\n"
     ]
    },
    {
     "name": "stderr",
     "output_type": "stream",
     "text": [
      "/home/vlad/miniconda3/envs/yolov8/lib/python3.10/site-packages/sklearn/neural_network/_multilayer_perceptron.py:686: ConvergenceWarning: Stochastic Optimizer: Maximum iterations (5) reached and the optimization hasn't converged yet.\n",
      "  warnings.warn(\n",
      "35it [3:11:51, 314.12s/it]"
     ]
    },
    {
     "name": "stdout",
     "output_type": "stream",
     "text": [
      "Calculated accuracy: 0.8342280691404637\n",
      "Train 34 done!\n"
     ]
    },
    {
     "name": "stderr",
     "output_type": "stream",
     "text": [
      "/home/vlad/miniconda3/envs/yolov8/lib/python3.10/site-packages/sklearn/neural_network/_multilayer_perceptron.py:686: ConvergenceWarning: Stochastic Optimizer: Maximum iterations (10) reached and the optimization hasn't converged yet.\n",
      "  warnings.warn(\n",
      "36it [3:18:52, 346.03s/it]"
     ]
    },
    {
     "name": "stdout",
     "output_type": "stream",
     "text": [
      "Calculated accuracy: 0.8342280691404637\n",
      "Train 35 done!\n"
     ]
    },
    {
     "name": "stderr",
     "output_type": "stream",
     "text": [
      "/home/vlad/miniconda3/envs/yolov8/lib/python3.10/site-packages/sklearn/neural_network/_multilayer_perceptron.py:686: ConvergenceWarning: Stochastic Optimizer: Maximum iterations (5) reached and the optimization hasn't converged yet.\n",
      "  warnings.warn(\n",
      "37it [3:22:25, 306.11s/it]"
     ]
    },
    {
     "name": "stdout",
     "output_type": "stream",
     "text": [
      "Calculated accuracy: 0.8342280691404637\n",
      "Train 36 done!\n"
     ]
    },
    {
     "name": "stderr",
     "output_type": "stream",
     "text": [
      "/home/vlad/miniconda3/envs/yolov8/lib/python3.10/site-packages/sklearn/neural_network/_multilayer_perceptron.py:686: ConvergenceWarning: Stochastic Optimizer: Maximum iterations (10) reached and the optimization hasn't converged yet.\n",
      "  warnings.warn(\n",
      "38it [3:29:25, 340.49s/it]"
     ]
    },
    {
     "name": "stdout",
     "output_type": "stream",
     "text": [
      "Calculated accuracy: 0.8342280691404637\n",
      "Train 37 done!\n"
     ]
    },
    {
     "name": "stderr",
     "output_type": "stream",
     "text": [
      "/home/vlad/miniconda3/envs/yolov8/lib/python3.10/site-packages/sklearn/neural_network/_multilayer_perceptron.py:686: ConvergenceWarning: Stochastic Optimizer: Maximum iterations (5) reached and the optimization hasn't converged yet.\n",
      "  warnings.warn(\n",
      "39it [3:32:53, 300.78s/it]"
     ]
    },
    {
     "name": "stdout",
     "output_type": "stream",
     "text": [
      "Calculated accuracy: 0.8342280691404637\n",
      "Train 38 done!\n"
     ]
    },
    {
     "name": "stderr",
     "output_type": "stream",
     "text": [
      "/home/vlad/miniconda3/envs/yolov8/lib/python3.10/site-packages/sklearn/neural_network/_multilayer_perceptron.py:686: ConvergenceWarning: Stochastic Optimizer: Maximum iterations (10) reached and the optimization hasn't converged yet.\n",
      "  warnings.warn(\n",
      "40it [3:39:50, 335.65s/it]"
     ]
    },
    {
     "name": "stdout",
     "output_type": "stream",
     "text": [
      "Calculated accuracy: 0.8342280691404637\n",
      "Train 39 done!\n"
     ]
    },
    {
     "name": "stderr",
     "output_type": "stream",
     "text": [
      "/home/vlad/miniconda3/envs/yolov8/lib/python3.10/site-packages/sklearn/neural_network/_multilayer_perceptron.py:686: ConvergenceWarning: Stochastic Optimizer: Maximum iterations (5) reached and the optimization hasn't converged yet.\n",
      "  warnings.warn(\n",
      "41it [3:43:34, 301.93s/it]"
     ]
    },
    {
     "name": "stdout",
     "output_type": "stream",
     "text": [
      "Calculated accuracy: 0.821308477375966\n",
      "Train 40 done!\n"
     ]
    },
    {
     "name": "stderr",
     "output_type": "stream",
     "text": [
      "/home/vlad/miniconda3/envs/yolov8/lib/python3.10/site-packages/sklearn/neural_network/_multilayer_perceptron.py:686: ConvergenceWarning: Stochastic Optimizer: Maximum iterations (10) reached and the optimization hasn't converged yet.\n",
      "  warnings.warn(\n",
      "42it [3:51:02, 345.80s/it]"
     ]
    },
    {
     "name": "stdout",
     "output_type": "stream",
     "text": [
      "Calculated accuracy: 0.8023715415019763\n",
      "Train 41 done!\n"
     ]
    },
    {
     "name": "stderr",
     "output_type": "stream",
     "text": [
      "/home/vlad/miniconda3/envs/yolov8/lib/python3.10/site-packages/sklearn/neural_network/_multilayer_perceptron.py:686: ConvergenceWarning: Stochastic Optimizer: Maximum iterations (5) reached and the optimization hasn't converged yet.\n",
      "  warnings.warn(\n",
      "43it [3:54:47, 309.62s/it]"
     ]
    },
    {
     "name": "stdout",
     "output_type": "stream",
     "text": [
      "Calculated accuracy: 0.8270898472066545\n",
      "Train 42 done!\n"
     ]
    },
    {
     "name": "stderr",
     "output_type": "stream",
     "text": [
      "/home/vlad/miniconda3/envs/yolov8/lib/python3.10/site-packages/sklearn/neural_network/_multilayer_perceptron.py:686: ConvergenceWarning: Stochastic Optimizer: Maximum iterations (10) reached and the optimization hasn't converged yet.\n",
      "  warnings.warn(\n",
      "44it [4:02:17, 351.64s/it]"
     ]
    },
    {
     "name": "stdout",
     "output_type": "stream",
     "text": [
      "Calculated accuracy: 0.7997168308654357\n",
      "Train 43 done!\n"
     ]
    },
    {
     "name": "stderr",
     "output_type": "stream",
     "text": [
      "/home/vlad/miniconda3/envs/yolov8/lib/python3.10/site-packages/sklearn/neural_network/_multilayer_perceptron.py:686: ConvergenceWarning: Stochastic Optimizer: Maximum iterations (5) reached and the optimization hasn't converged yet.\n",
      "  warnings.warn(\n",
      "45it [4:06:03, 314.09s/it]"
     ]
    },
    {
     "name": "stdout",
     "output_type": "stream",
     "text": [
      "Calculated accuracy: 0.8342280691404637\n",
      "Train 44 done!\n"
     ]
    },
    {
     "name": "stderr",
     "output_type": "stream",
     "text": [
      "/home/vlad/miniconda3/envs/yolov8/lib/python3.10/site-packages/sklearn/neural_network/_multilayer_perceptron.py:686: ConvergenceWarning: Stochastic Optimizer: Maximum iterations (10) reached and the optimization hasn't converged yet.\n",
      "  warnings.warn(\n",
      "46it [4:13:42, 357.41s/it]"
     ]
    },
    {
     "name": "stdout",
     "output_type": "stream",
     "text": [
      "Calculated accuracy: 0.8342280691404637\n",
      "Train 45 done!\n"
     ]
    },
    {
     "name": "stderr",
     "output_type": "stream",
     "text": [
      "/home/vlad/miniconda3/envs/yolov8/lib/python3.10/site-packages/sklearn/neural_network/_multilayer_perceptron.py:686: ConvergenceWarning: Stochastic Optimizer: Maximum iterations (5) reached and the optimization hasn't converged yet.\n",
      "  warnings.warn(\n",
      "47it [4:17:29, 318.41s/it]"
     ]
    },
    {
     "name": "stdout",
     "output_type": "stream",
     "text": [
      "Calculated accuracy: 0.8342280691404637\n",
      "Train 46 done!\n"
     ]
    },
    {
     "name": "stderr",
     "output_type": "stream",
     "text": [
      "/home/vlad/miniconda3/envs/yolov8/lib/python3.10/site-packages/sklearn/neural_network/_multilayer_perceptron.py:686: ConvergenceWarning: Stochastic Optimizer: Maximum iterations (10) reached and the optimization hasn't converged yet.\n",
      "  warnings.warn(\n",
      "48it [4:25:02, 358.90s/it]"
     ]
    },
    {
     "name": "stdout",
     "output_type": "stream",
     "text": [
      "Calculated accuracy: 0.8342280691404637\n",
      "Train 47 done!\n"
     ]
    },
    {
     "name": "stderr",
     "output_type": "stream",
     "text": [
      "/home/vlad/miniconda3/envs/yolov8/lib/python3.10/site-packages/sklearn/neural_network/_multilayer_perceptron.py:686: ConvergenceWarning: Stochastic Optimizer: Maximum iterations (5) reached and the optimization hasn't converged yet.\n",
      "  warnings.warn(\n",
      "49it [4:28:34, 314.61s/it]"
     ]
    },
    {
     "name": "stdout",
     "output_type": "stream",
     "text": [
      "Calculated accuracy: 0.8296855642734942\n",
      "Train 48 done!\n"
     ]
    },
    {
     "name": "stderr",
     "output_type": "stream",
     "text": [
      "/home/vlad/miniconda3/envs/yolov8/lib/python3.10/site-packages/sklearn/neural_network/_multilayer_perceptron.py:686: ConvergenceWarning: Stochastic Optimizer: Maximum iterations (10) reached and the optimization hasn't converged yet.\n",
      "  warnings.warn(\n",
      "50it [4:35:35, 346.59s/it]"
     ]
    },
    {
     "name": "stdout",
     "output_type": "stream",
     "text": [
      "Calculated accuracy: 0.8292431125007375\n",
      "Train 49 done!\n"
     ]
    },
    {
     "name": "stderr",
     "output_type": "stream",
     "text": [
      "/home/vlad/miniconda3/envs/yolov8/lib/python3.10/site-packages/sklearn/neural_network/_multilayer_perceptron.py:686: ConvergenceWarning: Stochastic Optimizer: Maximum iterations (5) reached and the optimization hasn't converged yet.\n",
      "  warnings.warn(\n",
      "51it [4:39:16, 308.98s/it]"
     ]
    },
    {
     "name": "stdout",
     "output_type": "stream",
     "text": [
      "Calculated accuracy: 0.8314553713645213\n",
      "Train 50 done!\n"
     ]
    },
    {
     "name": "stderr",
     "output_type": "stream",
     "text": [
      "/home/vlad/miniconda3/envs/yolov8/lib/python3.10/site-packages/sklearn/neural_network/_multilayer_perceptron.py:686: ConvergenceWarning: Stochastic Optimizer: Maximum iterations (10) reached and the optimization hasn't converged yet.\n",
      "  warnings.warn(\n",
      "52it [4:46:29, 346.16s/it]"
     ]
    },
    {
     "name": "stdout",
     "output_type": "stream",
     "text": [
      "Calculated accuracy: 0.8270013568521031\n",
      "Train 51 done!\n"
     ]
    },
    {
     "name": "stderr",
     "output_type": "stream",
     "text": [
      "/home/vlad/miniconda3/envs/yolov8/lib/python3.10/site-packages/sklearn/neural_network/_multilayer_perceptron.py:686: ConvergenceWarning: Stochastic Optimizer: Maximum iterations (5) reached and the optimization hasn't converged yet.\n",
      "  warnings.warn(\n",
      "53it [4:50:05, 307.08s/it]"
     ]
    },
    {
     "name": "stdout",
     "output_type": "stream",
     "text": [
      "Calculated accuracy: 0.8310129195917645\n",
      "Train 52 done!\n"
     ]
    },
    {
     "name": "stderr",
     "output_type": "stream",
     "text": [
      "/home/vlad/miniconda3/envs/yolov8/lib/python3.10/site-packages/sklearn/neural_network/_multilayer_perceptron.py:686: ConvergenceWarning: Stochastic Optimizer: Maximum iterations (10) reached and the optimization hasn't converged yet.\n",
      "  warnings.warn(\n",
      "54it [4:57:08, 341.95s/it]"
     ]
    },
    {
     "name": "stdout",
     "output_type": "stream",
     "text": [
      "Calculated accuracy: 0.8289186478673825\n",
      "Train 53 done!\n"
     ]
    },
    {
     "name": "stderr",
     "output_type": "stream",
     "text": [
      "/home/vlad/miniconda3/envs/yolov8/lib/python3.10/site-packages/sklearn/neural_network/_multilayer_perceptron.py:686: ConvergenceWarning: Stochastic Optimizer: Maximum iterations (5) reached and the optimization hasn't converged yet.\n",
      "  warnings.warn(\n",
      "55it [5:00:39, 302.47s/it]"
     ]
    },
    {
     "name": "stdout",
     "output_type": "stream",
     "text": [
      "Calculated accuracy: 0.8313668810099699\n",
      "Train 54 done!\n"
     ]
    },
    {
     "name": "stderr",
     "output_type": "stream",
     "text": [
      "/home/vlad/miniconda3/envs/yolov8/lib/python3.10/site-packages/sklearn/neural_network/_multilayer_perceptron.py:686: ConvergenceWarning: Stochastic Optimizer: Maximum iterations (10) reached and the optimization hasn't converged yet.\n",
      "  warnings.warn(\n",
      "56it [5:07:40, 338.07s/it]"
     ]
    },
    {
     "name": "stdout",
     "output_type": "stream",
     "text": [
      "Calculated accuracy: 0.8284172025249248\n",
      "Train 55 done!\n"
     ]
    },
    {
     "name": "stderr",
     "output_type": "stream",
     "text": [
      "/home/vlad/miniconda3/envs/yolov8/lib/python3.10/site-packages/sklearn/neural_network/_multilayer_perceptron.py:686: ConvergenceWarning: Stochastic Optimizer: Maximum iterations (5) reached and the optimization hasn't converged yet.\n",
      "  warnings.warn(\n",
      "57it [5:11:29, 305.34s/it]"
     ]
    },
    {
     "name": "stdout",
     "output_type": "stream",
     "text": [
      "Calculated accuracy: 0.8026960061353312\n",
      "Train 56 done!\n"
     ]
    },
    {
     "name": "stderr",
     "output_type": "stream",
     "text": [
      "/home/vlad/miniconda3/envs/yolov8/lib/python3.10/site-packages/sklearn/neural_network/_multilayer_perceptron.py:686: ConvergenceWarning: Stochastic Optimizer: Maximum iterations (10) reached and the optimization hasn't converged yet.\n",
      "  warnings.warn(\n",
      "58it [5:19:10, 351.99s/it]"
     ]
    },
    {
     "name": "stdout",
     "output_type": "stream",
     "text": [
      "Calculated accuracy: 0.779216565394372\n",
      "Train 57 done!\n"
     ]
    },
    {
     "name": "stderr",
     "output_type": "stream",
     "text": [
      "/home/vlad/miniconda3/envs/yolov8/lib/python3.10/site-packages/sklearn/neural_network/_multilayer_perceptron.py:686: ConvergenceWarning: Stochastic Optimizer: Maximum iterations (5) reached and the optimization hasn't converged yet.\n",
      "  warnings.warn(\n",
      "59it [5:22:58, 314.87s/it]"
     ]
    },
    {
     "name": "stdout",
     "output_type": "stream",
     "text": [
      "Calculated accuracy: 0.7975045720016518\n",
      "Train 58 done!\n"
     ]
    },
    {
     "name": "stderr",
     "output_type": "stream",
     "text": [
      "/home/vlad/miniconda3/envs/yolov8/lib/python3.10/site-packages/sklearn/neural_network/_multilayer_perceptron.py:686: ConvergenceWarning: Stochastic Optimizer: Maximum iterations (10) reached and the optimization hasn't converged yet.\n",
      "  warnings.warn(\n",
      "60it [5:30:38, 358.39s/it]"
     ]
    },
    {
     "name": "stdout",
     "output_type": "stream",
     "text": [
      "Calculated accuracy: 0.7859713291251254\n",
      "Train 59 done!\n"
     ]
    },
    {
     "name": "stderr",
     "output_type": "stream",
     "text": [
      "/home/vlad/miniconda3/envs/yolov8/lib/python3.10/site-packages/sklearn/neural_network/_multilayer_perceptron.py:686: ConvergenceWarning: Stochastic Optimizer: Maximum iterations (5) reached and the optimization hasn't converged yet.\n",
      "  warnings.warn(\n",
      "61it [5:34:31, 320.76s/it]"
     ]
    },
    {
     "name": "stdout",
     "output_type": "stream",
     "text": [
      "Calculated accuracy: 0.794053448174149\n",
      "Train 60 done!\n"
     ]
    },
    {
     "name": "stderr",
     "output_type": "stream",
     "text": [
      "/home/vlad/miniconda3/envs/yolov8/lib/python3.10/site-packages/sklearn/neural_network/_multilayer_perceptron.py:686: ConvergenceWarning: Stochastic Optimizer: Maximum iterations (10) reached and the optimization hasn't converged yet.\n",
      "  warnings.warn(\n",
      "62it [5:42:18, 364.72s/it]"
     ]
    },
    {
     "name": "stdout",
     "output_type": "stream",
     "text": [
      "Calculated accuracy: 0.7807503982065955\n",
      "Train 61 done!\n"
     ]
    },
    {
     "name": "stderr",
     "output_type": "stream",
     "text": [
      "/home/vlad/miniconda3/envs/yolov8/lib/python3.10/site-packages/sklearn/neural_network/_multilayer_perceptron.py:686: ConvergenceWarning: Stochastic Optimizer: Maximum iterations (5) reached and the optimization hasn't converged yet.\n",
      "  warnings.warn(\n",
      "63it [5:46:09, 324.47s/it]"
     ]
    },
    {
     "name": "stdout",
     "output_type": "stream",
     "text": [
      "Calculated accuracy: 0.7959412424045779\n",
      "Train 62 done!\n"
     ]
    },
    {
     "name": "stderr",
     "output_type": "stream",
     "text": [
      "/home/vlad/miniconda3/envs/yolov8/lib/python3.10/site-packages/sklearn/neural_network/_multilayer_perceptron.py:686: ConvergenceWarning: Stochastic Optimizer: Maximum iterations (10) reached and the optimization hasn't converged yet.\n",
      "  warnings.warn(\n",
      "64it [5:53:52, 331.75s/it]"
     ]
    },
    {
     "name": "stdout",
     "output_type": "stream",
     "text": [
      "Calculated accuracy: 0.7873576780130965\n",
      "Train 63 done!\n",
      "Search the best accuracy\n"
     ]
    },
    {
     "name": "stderr",
     "output_type": "stream",
     "text": [
      "\n"
     ]
    }
   ],
   "source": [
    "max_accuracy, best_combination = tune_hyperparameters(MLPClassifier, param_grid_MLP, X_train, X_test, y_train, y_test)"
   ]
  },
  {
   "cell_type": "code",
   "execution_count": 4,
   "id": "d7fd89cc",
   "metadata": {},
   "outputs": [
    {
     "name": "stdout",
     "output_type": "stream",
     "text": [
      "0.8364403280042475 ('identity', 'adam', 0.001, 10)\n"
     ]
    }
   ],
   "source": [
    "print(max_accuracy, best_combination)"
   ]
  },
  {
   "cell_type": "code",
   "execution_count": null,
   "id": "3ada4aa6",
   "metadata": {},
   "outputs": [
    {
     "name": "stdout",
     "output_type": "stream",
     "text": [
      "Create all combinations of parametes for test\n",
      "36 combinations before removing impossible\n",
      "24 combinations after removing impossible\n",
      "Start train model on different combinations\n"
     ]
    },
    {
     "name": "stderr",
     "output_type": "stream",
     "text": [
      "0it [00:00, ?it/s]/home/vlad/miniconda3/envs/yolov8/lib/python3.10/site-packages/sklearn/linear_model/_logistic.py:1211: UserWarning: 'n_jobs' > 1 does not have any effect when 'solver' is set to 'liblinear'. Got 'n_jobs' = 4.\n",
      "  warnings.warn(\n"
     ]
    }
   ],
   "source": [
    "max_accuracy, best_combination = tune_hyperparameters(LogisticRegression, param_grid_LR, X_train, X_test, y_train, y_test)"
   ]
  },
  {
   "cell_type": "code",
   "execution_count": 12,
   "id": "8b9e2f87",
   "metadata": {},
   "outputs": [
    {
     "name": "stdout",
     "output_type": "stream",
     "text": [
      "0.8342280691404637 (0.1, 'l2', 'lbfgs', 'ovr', 4, 10)\n"
     ]
    }
   ],
   "source": [
    "print(max_accuracy, best_combination)"
   ]
  },
  {
   "cell_type": "code",
   "execution_count": 5,
   "id": "9f2df50a",
   "metadata": {},
   "outputs": [
    {
     "name": "stdout",
     "output_type": "stream",
     "text": [
      "Create all combinations of parametes for test\n",
      "18 combinations before removing impossible\n",
      "18 combinations after removing impossible\n",
      "Start train model on different combinations\n"
     ]
    },
    {
     "name": "stderr",
     "output_type": "stream",
     "text": [
      "1it [01:47, 107.42s/it]"
     ]
    },
    {
     "name": "stdout",
     "output_type": "stream",
     "text": [
      "Calculated accuracy: 0.8340215916465106\n",
      "Train 0 done!\n"
     ]
    },
    {
     "name": "stderr",
     "output_type": "stream",
     "text": [
      "\r",
      "2it [03:34, 107.32s/it]"
     ]
    },
    {
     "name": "stdout",
     "output_type": "stream",
     "text": [
      "Calculated accuracy: 0.8329302106070439\n",
      "Train 1 done!\n"
     ]
    },
    {
     "name": "stderr",
     "output_type": "stream",
     "text": [
      "\r",
      "3it [05:19, 106.18s/it]"
     ]
    },
    {
     "name": "stdout",
     "output_type": "stream",
     "text": [
      "Calculated accuracy: 0.8370892572709575\n",
      "Train 2 done!\n"
     ]
    },
    {
     "name": "stderr",
     "output_type": "stream",
     "text": [
      "\r",
      "4it [07:00, 104.31s/it]"
     ]
    },
    {
     "name": "stdout",
     "output_type": "stream",
     "text": [
      "Calculated accuracy: 0.8323697716948852\n",
      "Train 3 done!\n"
     ]
    },
    {
     "name": "stderr",
     "output_type": "stream",
     "text": [
      "\r",
      "5it [08:38, 101.79s/it]"
     ]
    },
    {
     "name": "stdout",
     "output_type": "stream",
     "text": [
      "Calculated accuracy: 0.8370892572709575\n",
      "Train 4 done!\n"
     ]
    },
    {
     "name": "stderr",
     "output_type": "stream",
     "text": [
      "\r",
      "6it [10:21, 102.15s/it]"
     ]
    },
    {
     "name": "stdout",
     "output_type": "stream",
     "text": [
      "Calculated accuracy: 0.8323697716948852\n",
      "Train 5 done!\n"
     ]
    },
    {
     "name": "stderr",
     "output_type": "stream",
     "text": [
      "\r",
      "7it [14:37, 152.47s/it]"
     ]
    },
    {
     "name": "stdout",
     "output_type": "stream",
     "text": [
      "Calculated accuracy: 0.8369712701315557\n",
      "Train 6 done!\n"
     ]
    },
    {
     "name": "stderr",
     "output_type": "stream",
     "text": [
      "\r",
      "8it [19:01, 188.14s/it]"
     ]
    },
    {
     "name": "stdout",
     "output_type": "stream",
     "text": [
      "Calculated accuracy: 0.8346705209132205\n",
      "Train 7 done!\n"
     ]
    },
    {
     "name": "stderr",
     "output_type": "stream",
     "text": [
      "\r",
      "9it [23:15, 208.53s/it]"
     ]
    },
    {
     "name": "stdout",
     "output_type": "stream",
     "text": [
      "Calculated accuracy: 0.8398914518317503\n",
      "Train 8 done!\n"
     ]
    },
    {
     "name": "stderr",
     "output_type": "stream",
     "text": [
      "\r",
      "10it [27:28, 222.44s/it]"
     ]
    },
    {
     "name": "stdout",
     "output_type": "stream",
     "text": [
      "Calculated accuracy: 0.8355259276738836\n",
      "Train 9 done!\n"
     ]
    },
    {
     "name": "stderr",
     "output_type": "stream",
     "text": [
      "\r",
      "11it [31:41, 231.87s/it]"
     ]
    },
    {
     "name": "stdout",
     "output_type": "stream",
     "text": [
      "Calculated accuracy: 0.8398914518317503\n",
      "Train 10 done!\n"
     ]
    },
    {
     "name": "stderr",
     "output_type": "stream",
     "text": [
      "\r",
      "12it [35:53, 237.84s/it]"
     ]
    },
    {
     "name": "stdout",
     "output_type": "stream",
     "text": [
      "Calculated accuracy: 0.8355259276738836\n",
      "Train 11 done!\n"
     ]
    },
    {
     "name": "stderr",
     "output_type": "stream",
     "text": [
      "\r",
      "13it [44:23, 320.42s/it]"
     ]
    },
    {
     "name": "stdout",
     "output_type": "stream",
     "text": [
      "Calculated accuracy: 0.8565866320571057\n",
      "Train 12 done!\n"
     ]
    },
    {
     "name": "stderr",
     "output_type": "stream",
     "text": [
      "\r",
      "14it [52:35, 372.19s/it]"
     ]
    },
    {
     "name": "stdout",
     "output_type": "stream",
     "text": [
      "Calculated accuracy: 0.8562621674237508\n",
      "Train 13 done!\n"
     ]
    },
    {
     "name": "stderr",
     "output_type": "stream",
     "text": [
      "\r",
      "15it [1:01:01, 412.36s/it]"
     ]
    },
    {
     "name": "stdout",
     "output_type": "stream",
     "text": [
      "Calculated accuracy: 0.8577665034511238\n",
      "Train 14 done!\n"
     ]
    },
    {
     "name": "stderr",
     "output_type": "stream",
     "text": [
      "\r",
      "16it [1:09:44, 445.84s/it]"
     ]
    },
    {
     "name": "stdout",
     "output_type": "stream",
     "text": [
      "Calculated accuracy: 0.8555837413721904\n",
      "Train 15 done!\n"
     ]
    },
    {
     "name": "stderr",
     "output_type": "stream",
     "text": [
      "\r",
      "17it [1:18:13, 464.67s/it]"
     ]
    },
    {
     "name": "stdout",
     "output_type": "stream",
     "text": [
      "Calculated accuracy: 0.8577665034511238\n",
      "Train 16 done!\n"
     ]
    },
    {
     "name": "stderr",
     "output_type": "stream",
     "text": [
      "18it [1:26:57, 289.83s/it]"
     ]
    },
    {
     "name": "stdout",
     "output_type": "stream",
     "text": [
      "Calculated accuracy: 0.8555837413721904\n",
      "Train 17 done!\n",
      "Search the best accuracy\n"
     ]
    },
    {
     "name": "stderr",
     "output_type": "stream",
     "text": [
      "\n"
     ]
    }
   ],
   "source": [
    "max_accuracy, best_combination = tune_hyperparameters(RandomForestClassifier, param_grid_RFC, X_train, X_test, y_train, y_test)"
   ]
  },
  {
   "cell_type": "code",
   "execution_count": 6,
   "id": "afa53ce4",
   "metadata": {},
   "outputs": [
    {
     "name": "stdout",
     "output_type": "stream",
     "text": [
      "0.8577665034511238 (10, 'entropy', 'sqrt')\n"
     ]
    }
   ],
   "source": [
    "print(max_accuracy, best_combination)"
   ]
  },
  {
   "cell_type": "markdown",
   "id": "eb82cd49",
   "metadata": {},
   "source": [
    "### Save best parameters <a class=\"anchor\" id=\"save_best\"></a>"
   ]
  },
  {
   "cell_type": "code",
   "execution_count": 10,
   "id": "9c4f57da",
   "metadata": {},
   "outputs": [],
   "source": [
    "best_rfc_params = create_dict_of_model_params(list(param_grid_RFC.keys()), [10, 'entropy', 'sqrt'])\n",
    "best_mlp_params = create_dict_of_model_params(list(param_grid_MLP.keys()), ['identity', 'adam', 0.001, 10])\n",
    "best_lr_params = create_dict_of_model_params(list(param_grid_LR.keys())[:-1], [0.1, 'l2', 'lbfgs', 'ovr', 4])"
   ]
  },
  {
   "cell_type": "code",
   "execution_count": 11,
   "id": "95e23284",
   "metadata": {},
   "outputs": [],
   "source": [
    "with open(\"./data/model_params/MLP_best.pkl\", \"wb\") as mlp_best:\n",
    "    pickle.dump(best_mlp_params, mlp_best)\n",
    "with open(\"./data/model_params/RFC_best.pkl\", \"wb\") as rfc_best:\n",
    "    pickle.dump(best_rfc_params, rfc_best)\n",
    "with open(\"./data/model_params/LR_best.pkl\", \"wb\") as lr_best:\n",
    "    pickle.dump(best_lr_params, lr_best)"
   ]
  },
  {
   "cell_type": "markdown",
   "id": "1eb0ac4d",
   "metadata": {},
   "source": [
    "## Retrain models with best parameters <a class=\"anchor\" id=\"retrain\"></a>"
   ]
  },
  {
   "cell_type": "code",
   "execution_count": 11,
   "id": "4e09cadd",
   "metadata": {},
   "outputs": [
    {
     "name": "stderr",
     "output_type": "stream",
     "text": [
      "/home/vlad/miniconda3/envs/yolov8/lib/python3.10/site-packages/sklearn/linear_model/_logistic.py:458: ConvergenceWarning: lbfgs failed to converge (status=1):\n",
      "STOP: TOTAL NO. of ITERATIONS REACHED LIMIT.\n",
      "\n",
      "Increase the number of iterations (max_iter) or scale the data as shown in:\n",
      "    https://scikit-learn.org/stable/modules/preprocessing.html\n",
      "Please also refer to the documentation for alternative solver options:\n",
      "    https://scikit-learn.org/stable/modules/linear_model.html#logistic-regression\n",
      "  n_iter_i = _check_optimize_result(\n"
     ]
    },
    {
     "data": {
      "image/png": "[encoded data removed]",
      "text/plain": [
       "<Figure size 1200x700 with 2 Axes>"
      ]
     },
     "metadata": {},
     "output_type": "display_data"
    },
    {
     "name": "stdout",
     "output_type": "stream",
     "text": [
      "              precision    recall  f1-score   support\n",
      "\n",
      "      Actual       0.84      0.99      0.91     28282\n",
      "        Pred       0.30      0.02      0.03      5620\n",
      "\n",
      "    accuracy                           0.83     33902\n",
      "   macro avg       0.57      0.50      0.47     33902\n",
      "weighted avg       0.75      0.83      0.76     33902\n",
      "\n"
     ]
    }
   ],
   "source": [
    "#Logistic regression\n",
    "LR = LogisticRegression(**best_lr_params)\n",
    "LR.fit(X_train, y_train)\n",
    "display_metrics(LR, X_test, y_test)\n",
    "with open(\"./data/models/LR.pkl\", \"wb\") as lr:\n",
    "    pickle.dump(LR, lr)"
   ]
  },
  {
   "cell_type": "code",
   "execution_count": 7,
   "id": "6d982200",
   "metadata": {},
   "outputs": [
    {
     "data": {
      "image/png": "[encoded data removed]",
      "text/plain": [
       "<Figure size 1200x700 with 2 Axes>"
      ]
     },
     "metadata": {},
     "output_type": "display_data"
    },
    {
     "name": "stdout",
     "output_type": "stream",
     "text": [
      "              precision    recall  f1-score   support\n",
      "\n",
      "      Actual       0.88      0.96      0.92     28282\n",
      "        Pred       0.61      0.34      0.44      5620\n",
      "\n",
      "    accuracy                           0.86     33902\n",
      "   macro avg       0.75      0.65      0.68     33902\n",
      "weighted avg       0.84      0.86      0.84     33902\n",
      "\n"
     ]
    }
   ],
   "source": [
    "# RFC\n",
    "rfc = RandomForestClassifier(**best_rfc_params)\n",
    "rfc.fit(X_train, y_train)\n",
    "display_metrics(rfc, X_test, y_test)\n",
    "with open(\"./data/models/RFC.pkl\", \"wb\") as RFC:\n",
    "    pickle.dump(rfc, RFC)"
   ]
  },
  {
   "cell_type": "code",
   "execution_count": 6,
   "id": "d4593e6d",
   "metadata": {},
   "outputs": [
    {
     "name": "stderr",
     "output_type": "stream",
     "text": [
      "/home/vlad/miniconda3/envs/yolov8/lib/python3.10/site-packages/sklearn/neural_network/_multilayer_perceptron.py:686: ConvergenceWarning: Stochastic Optimizer: Maximum iterations (10) reached and the optimization hasn't converged yet.\n",
      "  warnings.warn(\n"
     ]
    },
    {
     "data": {
      "image/png": "[encoded data removed]",
      "text/plain": [
       "<Figure size 1200x700 with 2 Axes>"
      ]
     },
     "metadata": {},
     "output_type": "display_data"
    },
    {
     "name": "stdout",
     "output_type": "stream",
     "text": [
      "              precision    recall  f1-score   support\n",
      "\n",
      "      Actual       0.91      0.62      0.74     28282\n",
      "        Pred       0.27      0.69      0.38      5620\n",
      "\n",
      "    accuracy                           0.63     33902\n",
      "   macro avg       0.59      0.66      0.56     33902\n",
      "weighted avg       0.80      0.63      0.68     33902\n",
      "\n"
     ]
    }
   ],
   "source": [
    "# Multi-layer Perceptron\n",
    "mlp = MLPClassifier(**best_mlp_params)\n",
    "mlp.fit(X_train, y_train)\n",
    "display_metrics(mlp, X_test, y_test)\n",
    "with open(\"./data/models/MLP.pkl\", \"wb\") as MLP:\n",
    "    pickle.dump(mlp, MLP)"
   ]
  },
  {
   "cell_type": "markdown",
   "id": "6cb6634a",
   "metadata": {},
   "source": [
    "## Find top features <a class=\"anchor\" id=\"top_features\"></a>"
   ]
  },
  {
   "cell_type": "markdown",
   "id": "6e0670ca",
   "metadata": {},
   "source": [
    "### RFC <a class=\"anchor\" id=\"rfc_top\"></a>"
   ]
  },
  {
   "cell_type": "code",
   "execution_count": 13,
   "id": "5239f29e",
   "metadata": {},
   "outputs": [],
   "source": [
    "feature_coefs = rfc.feature_importances_[:len(feature_names)]"
   ]
  },
  {
   "cell_type": "code",
   "execution_count": 14,
   "id": "13bd6a3b",
   "metadata": {},
   "outputs": [
    {
     "data": {
      "text/plain": [
       "[('day_tempmax', 0.026317423520251522),\n",
       " ('day_tempmin', 0.028029070148911813),\n",
       " ('day_temp', 0.027705185029385446),\n",
       " ('day_dew', 0.02767471471992014),\n",
       " ('day_humidity', 0.027394275862224034),\n",
       " ('day_precip', 0.015118892972218521),\n",
       " ('day_precipcover', 0.01188040025947426),\n",
       " ('day_solarradiation', 0.02800913603238065),\n",
       " ('day_solarenergy', 0.02844396822752637),\n",
       " ('day_uvindex', 0.013540794918684599),\n",
       " ('day_moonphase', 0.0003658787777938773),\n",
       " ('hour_temp', 0.06619002654565202),\n",
       " ('hour_humidity', 0.06451784391119665),\n",
       " ('hour_dew', 0.060393124525924304),\n",
       " ('hour_precip', 0.005704119029984201),\n",
       " ('hour_precipprob', 0.0035246508594411747),\n",
       " ('hour_snow', 0.0009211801185028727),\n",
       " ('hour_snowdepth', 0.008140355736880286),\n",
       " ('hour_windgust', 0.06282272116099324),\n",
       " ('hour_windspeed', 0.05511573383845158),\n",
       " ('hour_winddir', 0.06123918855147087),\n",
       " ('hour_pressure', 0.05390016107039704),\n",
       " ('hour_visibility', 0.022581348716743575),\n",
       " ('hour_cloudcover', 0.045285610930926805),\n",
       " ('hour_solarradiation', 0.05520094634408526),\n",
       " ('hour_uvindex', 0.03519523671850946),\n",
       " ('hour_severerisk', 0.002749719076564266),\n",
       " ('region_id', 0.023536960700336545),\n",
       " ('hour_conditions_id', 0.01720830743994136)]"
      ]
     },
     "execution_count": 14,
     "metadata": {},
     "output_type": "execute_result"
    }
   ],
   "source": [
    "features = list(zip(feature_names, feature_coefs))\n",
    "features"
   ]
  },
  {
   "cell_type": "code",
   "execution_count": 15,
   "id": "13962aaa",
   "metadata": {},
   "outputs": [
    {
     "data": {
      "text/plain": [
       "[('hour_temp', 0.06619002654565202),\n",
       " ('hour_humidity', 0.06451784391119665),\n",
       " ('hour_windgust', 0.06282272116099324),\n",
       " ('hour_winddir', 0.06123918855147087),\n",
       " ('hour_dew', 0.060393124525924304),\n",
       " ('hour_solarradiation', 0.05520094634408526),\n",
       " ('hour_windspeed', 0.05511573383845158),\n",
       " ('hour_pressure', 0.05390016107039704),\n",
       " ('hour_cloudcover', 0.045285610930926805),\n",
       " ('hour_uvindex', 0.03519523671850946),\n",
       " ('day_solarenergy', 0.02844396822752637),\n",
       " ('day_tempmin', 0.028029070148911813),\n",
       " ('day_solarradiation', 0.02800913603238065),\n",
       " ('day_temp', 0.027705185029385446),\n",
       " ('day_dew', 0.02767471471992014),\n",
       " ('day_humidity', 0.027394275862224034),\n",
       " ('day_tempmax', 0.026317423520251522),\n",
       " ('region_id', 0.023536960700336545),\n",
       " ('hour_visibility', 0.022581348716743575),\n",
       " ('hour_conditions_id', 0.01720830743994136)]"
      ]
     },
     "execution_count": 15,
     "metadata": {},
     "output_type": "execute_result"
    }
   ],
   "source": [
    "sorted_features = sorted(features, key=lambda x: x[1], reverse=True)[:20]\n",
    "sorted_features"
   ]
  },
  {
   "cell_type": "code",
   "execution_count": 16,
   "id": "d2d32b2f",
   "metadata": {},
   "outputs": [],
   "source": [
    "feature_names = [x[0] for x in sorted_features]\n",
    "feature_weights = [x[1] for x in sorted_features]\n"
   ]
  },
  {
   "cell_type": "code",
   "execution_count": 17,
   "id": "41eb64ad",
   "metadata": {},
   "outputs": [
    {
     "data": {
      "image/png": "[encoded data removed]",
      "text/plain": [
       "<Figure size 800x800 with 1 Axes>"
      ]
     },
     "metadata": {},
     "output_type": "display_data"
    }
   ],
   "source": [
    "plt.figure(figsize=(8, 8))\n",
    "plt.bar(feature_names, feature_weights, color ='maroon',\n",
    "        width = 0.4)\n",
    "\n",
    "plt.xlabel(\"Feature names\")\n",
    "plt.ylabel(\"Feature weights\")\n",
    "plt.title(\"Top 20 Features\")\n",
    "plt.xticks(rotation=90)\n",
    "plt.show()"
   ]
  },
  {
   "cell_type": "markdown",
   "id": "b5b83b71",
   "metadata": {},
   "source": [
    "### LR <a class=\"anchor\" id=\"lr_top\"></a>"
   ]
  },
  {
   "cell_type": "code",
   "execution_count": null,
   "id": "69629d21",
   "metadata": {},
   "outputs": [],
   "source": [
    "r = permutation_importance(LR, X_test.toarray(), y_test, n_repeats=5, random_state=0)    "
   ]
  },
  {
   "cell_type": "markdown",
   "id": "d8244fc7",
   "metadata": {},
   "source": [
    "### MLP <a class=\"anchor\" id=\"mlp_top\"></a>"
   ]
  },
  {
   "cell_type": "code",
   "execution_count": null,
   "id": "5aa4b842",
   "metadata": {},
   "outputs": [],
   "source": [
    "r = permutation_importance(mlp, X_test.toarray(), y_test, n_repeats=5, random_state=0) "
   ]
  }
 ],
 "metadata": {
  "kernelspec": {
   "display_name": "yolov8",
   "language": "python",
   "name": "yolov8"
  },
  "language_info": {
   "codemirror_mode": {
    "name": "ipython",
    "version": 3
   },
   "file_extension": ".py",
   "mimetype": "text/x-python",
   "name": "python",
   "nbconvert_exporter": "python",
   "pygments_lexer": "ipython3",
   "version": "3.10.9"
  }
 },
 "nbformat": 4,
 "nbformat_minor": 5
}
