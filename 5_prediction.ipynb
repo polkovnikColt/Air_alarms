{
 "cells": [
  {
   "cell_type": "code",
   "execution_count": 8,
   "metadata": {},
   "outputs": [
    {
     "ename": "ImportError",
     "evalue": "Could not import c:\\Users\\dusty3ntity\\Desktop\\projects\\Air_alarms\\isw_3_data_preprocessing.ipynb for ipynb.fs.full.isw_3_data_preprocessing: not a valid ipynb file",
     "output_type": "error",
     "traceback": [
      "\u001b[1;31m---------------------------------------------------------------------------\u001b[0m",
      "\u001b[1;31mUnicodeDecodeError\u001b[0m                        Traceback (most recent call last)",
      "File \u001b[1;32mc:\\Users\\dusty3ntity\\AppData\\Local\\Programs\\Python\\Python311\\Lib\\site-packages\\ipynb\\fs\\full\\__init__.py:29\u001b[0m, in \u001b[0;36mFullLoader.get_code\u001b[1;34m(self, fullname)\u001b[0m\n\u001b[0;32m     28\u001b[0m \u001b[39mtry\u001b[39;00m:\n\u001b[1;32m---> 29\u001b[0m     nb \u001b[39m=\u001b[39m json\u001b[39m.\u001b[39;49mload(f)\n\u001b[0;32m     30\u001b[0m \u001b[39mexcept\u001b[39;00m \u001b[39mValueError\u001b[39;00m:\n\u001b[0;32m     31\u001b[0m     \u001b[39m# This is when it isn't a valid json file\u001b[39;00m\n",
      "File \u001b[1;32mc:\\Users\\dusty3ntity\\AppData\\Local\\Programs\\Python\\Python311\\Lib\\json\\__init__.py:293\u001b[0m, in \u001b[0;36mload\u001b[1;34m(fp, cls, object_hook, parse_float, parse_int, parse_constant, object_pairs_hook, **kw)\u001b[0m\n\u001b[0;32m    276\u001b[0m \u001b[39m\u001b[39m\u001b[39m\"\"\"Deserialize ``fp`` (a ``.read()``-supporting file-like object containing\u001b[39;00m\n\u001b[0;32m    277\u001b[0m \u001b[39ma JSON document) to a Python object.\u001b[39;00m\n\u001b[0;32m    278\u001b[0m \n\u001b[1;32m   (...)\u001b[0m\n\u001b[0;32m    291\u001b[0m \u001b[39mkwarg; otherwise ``JSONDecoder`` is used.\u001b[39;00m\n\u001b[0;32m    292\u001b[0m \u001b[39m\"\"\"\u001b[39;00m\n\u001b[1;32m--> 293\u001b[0m \u001b[39mreturn\u001b[39;00m loads(fp\u001b[39m.\u001b[39;49mread(),\n\u001b[0;32m    294\u001b[0m     \u001b[39mcls\u001b[39m\u001b[39m=\u001b[39m\u001b[39mcls\u001b[39m, object_hook\u001b[39m=\u001b[39mobject_hook,\n\u001b[0;32m    295\u001b[0m     parse_float\u001b[39m=\u001b[39mparse_float, parse_int\u001b[39m=\u001b[39mparse_int,\n\u001b[0;32m    296\u001b[0m     parse_constant\u001b[39m=\u001b[39mparse_constant, object_pairs_hook\u001b[39m=\u001b[39mobject_pairs_hook, \u001b[39m*\u001b[39m\u001b[39m*\u001b[39mkw)\n",
      "File \u001b[1;32mc:\\Users\\dusty3ntity\\AppData\\Local\\Programs\\Python\\Python311\\Lib\\encodings\\cp1252.py:23\u001b[0m, in \u001b[0;36mIncrementalDecoder.decode\u001b[1;34m(self, input, final)\u001b[0m\n\u001b[0;32m     22\u001b[0m \u001b[39mdef\u001b[39;00m \u001b[39mdecode\u001b[39m(\u001b[39mself\u001b[39m, \u001b[39minput\u001b[39m, final\u001b[39m=\u001b[39m\u001b[39mFalse\u001b[39;00m):\n\u001b[1;32m---> 23\u001b[0m     \u001b[39mreturn\u001b[39;00m codecs\u001b[39m.\u001b[39mcharmap_decode(\u001b[39minput\u001b[39m,\u001b[39mself\u001b[39m\u001b[39m.\u001b[39merrors,decoding_table)[\u001b[39m0\u001b[39m]\n",
      "\u001b[1;31mUnicodeDecodeError\u001b[0m: 'charmap' codec can't decode byte 0x9d in position 11630: character maps to <undefined>",
      "\nDuring handling of the above exception, another exception occurred:\n",
      "\u001b[1;31mImportError\u001b[0m                               Traceback (most recent call last)",
      "Cell \u001b[1;32mIn[8], line 13\u001b[0m\n\u001b[0;32m     10\u001b[0m \u001b[39mimport\u001b[39;00m \u001b[39mpickle\u001b[39;00m\n\u001b[0;32m     11\u001b[0m \u001b[39mimport\u001b[39;00m \u001b[39mjson\u001b[39;00m\n\u001b[1;32m---> 13\u001b[0m \u001b[39mfrom\u001b[39;00m \u001b[39mipynb\u001b[39;00m\u001b[39m.\u001b[39;00m\u001b[39mfs\u001b[39;00m\u001b[39m.\u001b[39;00m\u001b[39mfull\u001b[39;00m\u001b[39m.\u001b[39;00m\u001b[39misw_3_data_preprocessing\u001b[39;00m \u001b[39mimport\u001b[39;00m preprocess_page_html\n\u001b[0;32m     15\u001b[0m \u001b[39mfrom\u001b[39;00m \u001b[39mbs4\u001b[39;00m \u001b[39mimport\u001b[39;00m BeautifulSoup\n\u001b[0;32m     17\u001b[0m \u001b[39m# data processing\u001b[39;00m\n",
      "File \u001b[1;32mc:\\Users\\dusty3ntity\\AppData\\Local\\Programs\\Python\\Python311\\Lib\\site-packages\\ipynb\\fs\\full\\__init__.py:32\u001b[0m, in \u001b[0;36mFullLoader.get_code\u001b[1;34m(self, fullname)\u001b[0m\n\u001b[0;32m     29\u001b[0m     nb \u001b[39m=\u001b[39m json\u001b[39m.\u001b[39mload(f)\n\u001b[0;32m     30\u001b[0m \u001b[39mexcept\u001b[39;00m \u001b[39mValueError\u001b[39;00m:\n\u001b[0;32m     31\u001b[0m     \u001b[39m# This is when it isn't a valid json file\u001b[39;00m\n\u001b[1;32m---> 32\u001b[0m     \u001b[39mraise\u001b[39;00m \u001b[39mImportError\u001b[39;00m(\u001b[39m'\u001b[39m\u001b[39mCould not import \u001b[39m\u001b[39m{path}\u001b[39;00m\u001b[39m for \u001b[39m\u001b[39m{fn}\u001b[39;00m\u001b[39m: not a valid ipynb file\u001b[39m\u001b[39m'\u001b[39m\u001b[39m.\u001b[39mformat(\n\u001b[0;32m     33\u001b[0m         path\u001b[39m=\u001b[39m\u001b[39mself\u001b[39m\u001b[39m.\u001b[39mpath,\n\u001b[0;32m     34\u001b[0m         fn\u001b[39m=\u001b[39mfullname\n\u001b[0;32m     35\u001b[0m     ))\n\u001b[0;32m     36\u001b[0m \u001b[39mif\u001b[39;00m \u001b[39mnot\u001b[39;00m validate_nb(nb):\n\u001b[0;32m     37\u001b[0m     \u001b[39m# This is when it isn't the appropriate\u001b[39;00m\n\u001b[0;32m     38\u001b[0m     \u001b[39m# nbformet version or language\u001b[39;00m\n\u001b[0;32m     39\u001b[0m     \u001b[39mraise\u001b[39;00m \u001b[39mImportError\u001b[39;00m(\u001b[39m'\u001b[39m\u001b[39mCould not import \u001b[39m\u001b[39m{path}\u001b[39;00m\u001b[39m for \u001b[39m\u001b[39m{fn}\u001b[39;00m\u001b[39m: incorrect version or language\u001b[39m\u001b[39m'\u001b[39m\u001b[39m.\u001b[39mformat(\n\u001b[0;32m     40\u001b[0m         path\u001b[39m=\u001b[39m\u001b[39mself\u001b[39m\u001b[39m.\u001b[39mpath,\n\u001b[0;32m     41\u001b[0m         fn\u001b[39m=\u001b[39mfullname\n\u001b[0;32m     42\u001b[0m     ))\n",
      "\u001b[1;31mImportError\u001b[0m: Could not import c:\\Users\\dusty3ntity\\Desktop\\projects\\Air_alarms\\isw_3_data_preprocessing.ipynb for ipynb.fs.full.isw_3_data_preprocessing: not a valid ipynb file"
     ]
    }
   ],
   "source": [
    "import datetime\n",
    "import numpy as np\n",
    "import pandas as pd\n",
    "import requests\n",
    "import scipy\n",
    "import scipy.sparse as sp\n",
    "import json\n",
    "\n",
    "import os\n",
    "import pickle\n",
    "import json\n",
    "\n",
    "\n",
    "from bs4 import BeautifulSoup\n",
    "\n",
    "# data processing\n",
    "from utils import weatherapi\n",
    "\n",
    "from sklearn import preprocessing\n"
   ]
  },
  {
   "cell_type": "code",
   "execution_count": 30,
   "metadata": {},
   "outputs": [],
   "source": [
    "pd.set_option('display.max_columns', None)\n",
    "pd.set_option('display.max_rows', None)"
   ]
  },
  {
   "cell_type": "code",
   "execution_count": 31,
   "metadata": {},
   "outputs": [],
   "source": [
    "OUTPUT_FOLDER = \"data/prediction\"\n",
    "if not os.path.exists(OUTPUT_FOLDER):\n",
    "   os.makedirs(OUTPUT_FOLDER)\n",
    "\n",
    "ISW_DATA_FILE = \"data/isw/reports_processed_v2.csv\"\n",
    "WEATHER_EVENTS_DATA_FILE = \"data/alarms/merged_events.csv\"\n",
    "\n",
    "\n",
    "tfidf_transformer_model = \"tfidf_transformer\"\n",
    "tfidf_transformer_version = \"v1\"\n",
    "\n",
    "alarm_classifier = \"alarm_classifier\"\n",
    "alarm_classifier_version = \"v1\"\n",
    "\n",
    "count_vectorizer_model = \"count_vectorizer\"\n",
    "count_vectorizer_version = \"v1\"\n",
    "\n",
    "MODELS_FOLDER = \"data/models\"\n",
    "\n",
    "decision_tree_model = \"DecisionTreeClassifier\"\n",
    "decision_tree_version = \"v1\""
   ]
  },
  {
   "cell_type": "markdown",
   "metadata": {},
   "source": [
    "## 1. Load models & data"
   ]
  },
  {
   "cell_type": "code",
   "execution_count": 32,
   "metadata": {},
   "outputs": [],
   "source": [
    "clf = pickle.load(open(f\"data/{alarm_classifier}_{alarm_classifier_version}.pkl\", \"rb\"))\n",
    "tfidf = pickle.load(open(f\"data/isw/{tfidf_transformer_model}_{tfidf_transformer_version}.pkl\", \"rb\"))\n",
    "cv = pickle.load(open(f\"data/isw/{count_vectorizer_model}_{count_vectorizer_version}.pkl\", \"rb\"))\n",
    "\n",
    "label_encoder = pickle.load(open(f\"data/isw/hour_conditions_label_encoder.pkl\", \"rb\"))\n",
    "\n",
    "decision_tree = pickle.load(open(f\"{MODELS_FOLDER}/{decision_tree_model}.pkl\", \"rb\"))\n"
   ]
  },
  {
   "cell_type": "code",
   "execution_count": 5,
   "metadata": {},
   "outputs": [
    {
     "data": {
      "text/html": [
       "<div>\n",
       "<style scoped>\n",
       "    .dataframe tbody tr th:only-of-type {\n",
       "        vertical-align: middle;\n",
       "    }\n",
       "\n",
       "    .dataframe tbody tr th {\n",
       "        vertical-align: top;\n",
       "    }\n",
       "\n",
       "    .dataframe thead th {\n",
       "        text-align: right;\n",
       "    }\n",
       "</style>\n",
       "<table border=\"1\" class=\"dataframe\">\n",
       "  <thead>\n",
       "    <tr style=\"text-align: right;\">\n",
       "      <th></th>\n",
       "      <th>region</th>\n",
       "      <th>center_city_ua</th>\n",
       "      <th>center_city_en</th>\n",
       "      <th>region_alt</th>\n",
       "      <th>region_id</th>\n",
       "    </tr>\n",
       "  </thead>\n",
       "  <tbody>\n",
       "    <tr>\n",
       "      <th>0</th>\n",
       "      <td>АР Крим</td>\n",
       "      <td>Сімферополь</td>\n",
       "      <td>Simferopol</td>\n",
       "      <td>Крим</td>\n",
       "      <td>1</td>\n",
       "    </tr>\n",
       "    <tr>\n",
       "      <th>1</th>\n",
       "      <td>Вінницька</td>\n",
       "      <td>Вінниця</td>\n",
       "      <td>Vinnytsia</td>\n",
       "      <td>Вінниччина</td>\n",
       "      <td>2</td>\n",
       "    </tr>\n",
       "    <tr>\n",
       "      <th>2</th>\n",
       "      <td>Волинська</td>\n",
       "      <td>Луцьк</td>\n",
       "      <td>Lutsk</td>\n",
       "      <td>Волинь</td>\n",
       "      <td>3</td>\n",
       "    </tr>\n",
       "    <tr>\n",
       "      <th>3</th>\n",
       "      <td>Дніпропетровська</td>\n",
       "      <td>Дніпро</td>\n",
       "      <td>Dnipro</td>\n",
       "      <td>Дніпропетровщина</td>\n",
       "      <td>4</td>\n",
       "    </tr>\n",
       "    <tr>\n",
       "      <th>4</th>\n",
       "      <td>Донецька</td>\n",
       "      <td>Донецьк</td>\n",
       "      <td>Donetsk</td>\n",
       "      <td>Донеччина</td>\n",
       "      <td>5</td>\n",
       "    </tr>\n",
       "    <tr>\n",
       "      <th>5</th>\n",
       "      <td>Житомирська</td>\n",
       "      <td>Житомир</td>\n",
       "      <td>Zhytomyr</td>\n",
       "      <td>Житомирщина</td>\n",
       "      <td>6</td>\n",
       "    </tr>\n",
       "    <tr>\n",
       "      <th>6</th>\n",
       "      <td>Закарпатська</td>\n",
       "      <td>Ужгород</td>\n",
       "      <td>Uzhgorod</td>\n",
       "      <td>Закарпаття</td>\n",
       "      <td>7</td>\n",
       "    </tr>\n",
       "    <tr>\n",
       "      <th>7</th>\n",
       "      <td>Запорізька</td>\n",
       "      <td>Запоріжжя</td>\n",
       "      <td>Zaporozhye</td>\n",
       "      <td>Запоріжжя</td>\n",
       "      <td>8</td>\n",
       "    </tr>\n",
       "    <tr>\n",
       "      <th>8</th>\n",
       "      <td>Івано-Франківська</td>\n",
       "      <td>Івано-Франківськ</td>\n",
       "      <td>Ivano-Frankivsk</td>\n",
       "      <td>Овано-Франківщина</td>\n",
       "      <td>9</td>\n",
       "    </tr>\n",
       "    <tr>\n",
       "      <th>9</th>\n",
       "      <td>Київська</td>\n",
       "      <td>Київ</td>\n",
       "      <td>Kyiv</td>\n",
       "      <td>Київщина</td>\n",
       "      <td>10</td>\n",
       "    </tr>\n",
       "    <tr>\n",
       "      <th>10</th>\n",
       "      <td>Кіровоградська</td>\n",
       "      <td>Кропивницький</td>\n",
       "      <td>Kropyvnytskyi</td>\n",
       "      <td>Кіровоградщина</td>\n",
       "      <td>11</td>\n",
       "    </tr>\n",
       "    <tr>\n",
       "      <th>11</th>\n",
       "      <td>Луганська</td>\n",
       "      <td>Луганськ</td>\n",
       "      <td>Luhansk</td>\n",
       "      <td>Луганщина</td>\n",
       "      <td>12</td>\n",
       "    </tr>\n",
       "    <tr>\n",
       "      <th>12</th>\n",
       "      <td>Львівська</td>\n",
       "      <td>Львів</td>\n",
       "      <td>Lviv</td>\n",
       "      <td>Львівщина</td>\n",
       "      <td>13</td>\n",
       "    </tr>\n",
       "    <tr>\n",
       "      <th>13</th>\n",
       "      <td>Миколаївська</td>\n",
       "      <td>Миколаїв</td>\n",
       "      <td>Mykolaiv</td>\n",
       "      <td>Миколаївщина</td>\n",
       "      <td>14</td>\n",
       "    </tr>\n",
       "    <tr>\n",
       "      <th>14</th>\n",
       "      <td>Одеська</td>\n",
       "      <td>Одеса</td>\n",
       "      <td>Odesa</td>\n",
       "      <td>Одещина</td>\n",
       "      <td>15</td>\n",
       "    </tr>\n",
       "    <tr>\n",
       "      <th>15</th>\n",
       "      <td>Полтавська</td>\n",
       "      <td>Полтава</td>\n",
       "      <td>Poltava</td>\n",
       "      <td>Полтавщина</td>\n",
       "      <td>16</td>\n",
       "    </tr>\n",
       "    <tr>\n",
       "      <th>16</th>\n",
       "      <td>Рівненська</td>\n",
       "      <td>Рівне</td>\n",
       "      <td>Rivne</td>\n",
       "      <td>Рівненщина</td>\n",
       "      <td>17</td>\n",
       "    </tr>\n",
       "    <tr>\n",
       "      <th>17</th>\n",
       "      <td>Сумська</td>\n",
       "      <td>Суми</td>\n",
       "      <td>Sumy</td>\n",
       "      <td>Сумщина</td>\n",
       "      <td>18</td>\n",
       "    </tr>\n",
       "    <tr>\n",
       "      <th>18</th>\n",
       "      <td>Тернопільська</td>\n",
       "      <td>Тернопіль</td>\n",
       "      <td>Ternopil</td>\n",
       "      <td>Тернопільщина</td>\n",
       "      <td>19</td>\n",
       "    </tr>\n",
       "    <tr>\n",
       "      <th>19</th>\n",
       "      <td>Харківська</td>\n",
       "      <td>Харків</td>\n",
       "      <td>Kharkiv</td>\n",
       "      <td>Харківщина</td>\n",
       "      <td>20</td>\n",
       "    </tr>\n",
       "    <tr>\n",
       "      <th>20</th>\n",
       "      <td>Херсонська</td>\n",
       "      <td>Херсон</td>\n",
       "      <td>Kherson</td>\n",
       "      <td>Херсонщина</td>\n",
       "      <td>21</td>\n",
       "    </tr>\n",
       "    <tr>\n",
       "      <th>21</th>\n",
       "      <td>Хмельницька</td>\n",
       "      <td>Хмельницький</td>\n",
       "      <td>Khmelnytskyi</td>\n",
       "      <td>Хмельниччина</td>\n",
       "      <td>22</td>\n",
       "    </tr>\n",
       "    <tr>\n",
       "      <th>22</th>\n",
       "      <td>Черкаська</td>\n",
       "      <td>Черкаси</td>\n",
       "      <td>Cherkasy</td>\n",
       "      <td>Черкащина</td>\n",
       "      <td>23</td>\n",
       "    </tr>\n",
       "    <tr>\n",
       "      <th>23</th>\n",
       "      <td>Чернівецька</td>\n",
       "      <td>Чернівці</td>\n",
       "      <td>Chernivtsi</td>\n",
       "      <td>Буковина</td>\n",
       "      <td>24</td>\n",
       "    </tr>\n",
       "    <tr>\n",
       "      <th>24</th>\n",
       "      <td>Чернігівська</td>\n",
       "      <td>Чернігів</td>\n",
       "      <td>Chernihiv</td>\n",
       "      <td>Чернігівщина</td>\n",
       "      <td>25</td>\n",
       "    </tr>\n",
       "  </tbody>\n",
       "</table>\n",
       "</div>"
      ],
      "text/plain": [
       "               region    center_city_ua   center_city_en         region_alt   \n",
       "0             АР Крим       Сімферополь       Simferopol               Крим  \\\n",
       "1           Вінницька           Вінниця        Vinnytsia         Вінниччина   \n",
       "2           Волинська             Луцьк            Lutsk             Волинь   \n",
       "3    Дніпропетровська            Дніпро           Dnipro   Дніпропетровщина   \n",
       "4            Донецька           Донецьк          Donetsk          Донеччина   \n",
       "5         Житомирська           Житомир         Zhytomyr        Житомирщина   \n",
       "6        Закарпатська           Ужгород         Uzhgorod         Закарпаття   \n",
       "7          Запорізька         Запоріжжя       Zaporozhye          Запоріжжя   \n",
       "8   Івано-Франківська  Івано-Франківськ  Ivano-Frankivsk  Овано-Франківщина   \n",
       "9            Київська              Київ             Kyiv           Київщина   \n",
       "10     Кіровоградська     Кропивницький    Kropyvnytskyi     Кіровоградщина   \n",
       "11          Луганська          Луганськ          Luhansk          Луганщина   \n",
       "12          Львівська             Львів             Lviv          Львівщина   \n",
       "13       Миколаївська          Миколаїв         Mykolaiv       Миколаївщина   \n",
       "14            Одеська             Одеса            Odesa            Одещина   \n",
       "15         Полтавська           Полтава          Poltava         Полтавщина   \n",
       "16         Рівненська             Рівне            Rivne         Рівненщина   \n",
       "17            Сумська              Суми             Sumy            Сумщина   \n",
       "18      Тернопільська         Тернопіль         Ternopil      Тернопільщина   \n",
       "19         Харківська            Харків          Kharkiv         Харківщина   \n",
       "20         Херсонська            Херсон          Kherson         Херсонщина   \n",
       "21        Хмельницька      Хмельницький     Khmelnytskyi       Хмельниччина   \n",
       "22          Черкаська           Черкаси         Cherkasy          Черкащина   \n",
       "23        Чернівецька          Чернівці       Chernivtsi           Буковина   \n",
       "24       Чернігівська          Чернігів        Chernihiv       Чернігівщина   \n",
       "\n",
       "    region_id  \n",
       "0           1  \n",
       "1           2  \n",
       "2           3  \n",
       "3           4  \n",
       "4           5  \n",
       "5           6  \n",
       "6           7  \n",
       "7           8  \n",
       "8           9  \n",
       "9          10  \n",
       "10         11  \n",
       "11         12  \n",
       "12         13  \n",
       "13         14  \n",
       "14         15  \n",
       "15         16  \n",
       "16         17  \n",
       "17         18  \n",
       "18         19  \n",
       "19         20  \n",
       "20         21  \n",
       "21         22  \n",
       "22         23  \n",
       "23         24  \n",
       "24         25  "
      ]
     },
     "execution_count": 5,
     "metadata": {},
     "output_type": "execute_result"
    }
   ],
   "source": [
    "REGIONS_DICTIONARY_FILE = \"data/meta/regions.csv\"\n",
    "df_regions = pd.read_csv(REGIONS_DICTIONARY_FILE)\n",
    "df_regions.head(25)"
   ]
  },
  {
   "cell_type": "markdown",
   "metadata": {},
   "source": [
    "## 2. Setup prediction region"
   ]
  },
  {
   "cell_type": "code",
   "execution_count": 24,
   "metadata": {},
   "outputs": [],
   "source": [
    "region = \"Львівщина\"\n",
    "date = \"2023-04-09\"\n",
    "\n",
    "city = df_regions[df_regions[\"region_alt\"]==region][\"center_city_en\"].values[0]"
   ]
  },
  {
   "cell_type": "markdown",
   "metadata": {},
   "source": [
    "## 3. Get weather"
   ]
  },
  {
   "cell_type": "code",
   "execution_count": 35,
   "metadata": {},
   "outputs": [],
   "source": [
    "level = \"hours\"\n",
    "location = f\"{city},Ukraine\"\n",
    "\n",
    "file_name = f\"weather___{city.lower()}__{date}.json\""
   ]
  },
  {
   "cell_type": "code",
   "execution_count": 38,
   "metadata": {},
   "outputs": [
    {
     "name": "stdout",
     "output_type": "stream",
     "text": [
      "https://weather.visualcrossing.com/VisualCrossingWebServices/rest/services/timeline/Lviv,Ukraine/1681026667/1681069867?key=3QULGS8KJPBECC4J3W7MPEF2T\n"
     ]
    }
   ],
   "source": [
    "if not os.path.isfile(f\"{OUTPUT_FOLDER}/{file_name}\"):\n",
    "\tcity_weather_json = weatherapi.get_weather_json(location, date)\n",
    "\tjson_object = json.dumps(city_weather_json, indent=4)\n",
    "\n",
    "\twith open(f\"{OUTPUT_FOLDER}/{file_name}\", \"w\") as outfile:\n",
    "\t\toutfile.write(json_object)\n",
    "else:\n",
    "\tprint(f\"Weather data from the \\nregion {region}; \\ndate {date}; \\n is ready\")"
   ]
  },
  {
   "cell_type": "code",
   "execution_count": null,
   "metadata": {},
   "outputs": [],
   "source": [
    "weather_file_path = f\"{OUTPUT_FOLDER}/{file_name}\"\n",
    "weather_for_day_hourly = weather.get_weather_hourly_for_region(weather_file_path)\n",
    "weather_df = pd.DataFrame.from_dict(weather_for_day_hourly)\n",
    "\n",
    "weather_df[\"day_datetime\"] = pd.to_datetime(weather_df[\"day_datetime\"])\n",
    "weather_df[\"city\"] = weather_df[\"city_resolvedAddress\"].apply(lambda x: x.split(\",\")[0])\n",
    "weather_df[\"city\"] = weather_df[\"city\"].replace(\"Хмельницька область\", \"Хмельницький\")\n",
    "\n",
    "weather_df_v2 = weather.exclude_fields(weather_df)"
   ]
  },
  {
   "cell_type": "code",
   "execution_count": null,
   "metadata": {},
   "outputs": [],
   "source": [
    "weather_df_v3 = pd.merge(weather_df_v2, df_regions, left_on=\"city\", right_on=\"center_city_ua\")"
   ]
  },
  {
   "cell_type": "markdown",
   "metadata": {},
   "source": [
    "## 3. Get report"
   ]
  },
  {
   "cell_type": "code",
   "execution_count": 44,
   "metadata": {},
   "outputs": [
    {
     "name": "stdout",
     "output_type": "stream",
     "text": [
      "https://www.understandingwar.org/backgrounder/russian-offensive-campaign-assessment-april-8-2023\n"
     ]
    }
   ],
   "source": [
    "date = \"2023-04-08\"\n",
    "\n",
    "BASE_URL = \"https://www.understandingwar.org/backgrounder/russian-offensive-campaign-assessment\"\n",
    "months = [\"january\", \"february\", \"march\", \"april\", \"may\", \"june\", \"july\", \"august\", \"september\", \"october\", \"november\", \"december\"]\n",
    "date_arr = date.split(\"-\")\n",
    "\n",
    "url = f\"{BASE_URL}-{months[int(date_arr[1])-1]}-{int(date_arr[2])}-{int(date_arr[0])}\"\n",
    "print(url)\n",
    "\n",
    "page = requests.get(url)\n",
    "isw_report_html_file = f\"{OUTPUT_FOLDER}/isw___{date}.html\"\n",
    "with open(isw_report_html_file, \"wb+\") as f:\n",
    "  f.write(page.content)"
   ]
  },
  {
   "cell_type": "code",
   "execution_count": null,
   "metadata": {},
   "outputs": [],
   "source": [
    "with open(isw_report_html_file, \"r\") as cfile:\n",
    "\tisw_report_html_txt = cfile.read()\n",
    "\tparsed_html = BeautifulSoup(isw_report_html_txt)\n",
    "\n",
    "\ttitle, link, text_title, text_main = tp.parse_html(parsed_html)\n",
    "\tmain_html_v2 = tp.remove_names_and_date(str(text_main))"
   ]
  },
  {
   "cell_type": "code",
   "execution_count": null,
   "metadata": {},
   "outputs": [],
   "source": [
    "main_html_v2 = BeautifulSoup(str(main_html_v2)).text\n",
    "\n",
    "main_html_v3 = tp.replace_date(main_html_v2, date)\n",
    "\n",
    "main_html_v3 = tp.preprocess_first(main_html_v3)\n",
    "main_html_v3_lemm = tp.preprocess_second(main_html_v3, \"lemm\")\n",
    "\n",
    "repowr_tf_idf = tf_idf.conver_doc_to_vector(main_html_v3_lemm, cv, tfidf)"
   ]
  },
  {
   "cell_type": "code",
   "execution_count": null,
   "metadata": {},
   "outputs": [],
   "source": [
    "repowr_tf_idf"
   ]
  },
  {
   "cell_type": "code",
   "execution_count": null,
   "metadata": {},
   "outputs": [],
   "source": [
    "word_count_vector = cv.transform([main_html_v3_lemm])\n",
    "tfidf_vector = tfidf.transform(word_count_vector)"
   ]
  },
  {
   "cell_type": "markdown",
   "metadata": {},
   "source": [
    "## 4. Data preparation"
   ]
  },
  {
   "cell_type": "code",
   "execution_count": 45,
   "metadata": {},
   "outputs": [],
   "source": [
    "fields_to_exclude = [\n",
    "\t\"city_resolvedAddress\",\n",
    "\t\"day_datetime\",\n",
    "\t\"day_datetimeEpoch\",\n",
    "\t\"hour_datetime\",\n",
    "\t\"hour_datetimeEpoch\",\n",
    "\t\"city\",\n",
    "\t\"region\",\n",
    "\t\"center_city_ua\",\n",
    "\t\"center_city_en\"\n",
    "]\n",
    "\n",
    "tmp_fields_to_exclude = [\n",
    "\t\"day_sunrise\",\n",
    "\t\"day_sunset\",\n",
    "\t\"hour_preciptype\",\n",
    "\t\"hour_conditions\",\n",
    "\t\"hour_solarenergy\",\n",
    "\t\"region_alt\"\n",
    "]\n",
    "\n",
    "df_work_v2 = weather_df_v3.drop(fields_to_exclude, axis=1)"
   ]
  },
  {
   "cell_type": "code",
   "execution_count": 46,
   "metadata": {},
   "outputs": [
    {
     "ename": "NameError",
     "evalue": "name 'df_work_v2' is not defined",
     "output_type": "error",
     "traceback": [
      "\u001b[0;31m---------------------------------------------------------------------------\u001b[0m",
      "\u001b[0;31mNameError\u001b[0m                                 Traceback (most recent call last)",
      "Cell \u001b[0;32mIn[46], line 1\u001b[0m\n\u001b[0;32m----> 1\u001b[0m df_work_v2[\u001b[38;5;124m\"\u001b[39m\u001b[38;5;124mhour_conditions\u001b[39m\u001b[38;5;124m\"\u001b[39m] \u001b[38;5;241m=\u001b[39m \u001b[43mdf_work_v2\u001b[49m[\u001b[38;5;124m\"\u001b[39m\u001b[38;5;124mhour_conditions\u001b[39m\u001b[38;5;124m\"\u001b[39m]\u001b[38;5;241m.\u001b[39mapply(\u001b[38;5;28;01mlambda\u001b[39;00m x: x\u001b[38;5;241m.\u001b[39msplit(\u001b[38;5;124m\"\u001b[39m\u001b[38;5;124m,\u001b[39m\u001b[38;5;124m\"\u001b[39m)[\u001b[38;5;241m0\u001b[39m])\n\u001b[1;32m      2\u001b[0m df_work_v2[\u001b[38;5;124m\"\u001b[39m\u001b[38;5;124mhour_conditions_id\u001b[39m\u001b[38;5;124m\"\u001b[39m] \u001b[38;5;241m=\u001b[39m label_encoder\u001b[38;5;241m.\u001b[39mtransform(df_work_v2[\u001b[38;5;124m\"\u001b[39m\u001b[38;5;124mhour_conditions\u001b[39m\u001b[38;5;124m\"\u001b[39m])\n",
      "\u001b[0;31mNameError\u001b[0m: name 'df_work_v2' is not defined"
     ]
    }
   ],
   "source": [
    "df_work_v2[\"hour_conditions\"] = df_work_v2[\"hour_conditions\"].apply(lambda x: x.split(\",\")[0])\n",
    "df_work_v2[\"hour_conditions_id\"] = label_encoder.transform(df_work_v2[\"hour_conditions\"])"
   ]
  },
  {
   "cell_type": "code",
   "execution_count": 47,
   "metadata": {},
   "outputs": [
    {
     "ename": "NameError",
     "evalue": "name 'df_work_v3' is not defined",
     "output_type": "error",
     "traceback": [
      "\u001b[0;31m---------------------------------------------------------------------------\u001b[0m",
      "\u001b[0;31mNameError\u001b[0m                                 Traceback (most recent call last)",
      "Cell \u001b[0;32mIn[47], line 1\u001b[0m\n\u001b[0;32m----> 1\u001b[0m \u001b[43mdf_work_v3\u001b[49m \u001b[38;5;241m-\u001b[39m df_work_v2\u001b[38;5;241m.\u001b[39mdrop(tmp_fields_to_exclude, axis\u001b[38;5;241m=\u001b[39m\u001b[38;5;241m1\u001b[39m)\n",
      "\u001b[0;31mNameError\u001b[0m: name 'df_work_v3' is not defined"
     ]
    }
   ],
   "source": [
    "df_work_v3 - df_work_v2.drop(tmp_fields_to_exclude, axis=1)"
   ]
  },
  {
   "cell_type": "code",
   "execution_count": null,
   "metadata": {},
   "outputs": [],
   "source": [
    "df_work_v3.head(10)"
   ]
  },
  {
   "cell_type": "code",
   "execution_count": null,
   "metadata": {},
   "outputs": [],
   "source": [
    "tfidf_matrix = tfidf_vector\n",
    "\n",
    "for i in range(0, 23):\n",
    "\ttfidf_matrix = sp.vstack((tfidf_matrix, tfidf_vector), format=\"csr\")"
   ]
  },
  {
   "cell_type": "code",
   "execution_count": null,
   "metadata": {},
   "outputs": [],
   "source": [
    "df_work_v4_csr = scipy.sparce.csr_matrix(df_work_v3.values)\n",
    "df_all_features = sp.hstack((df_work_v4_csr, tfidf_matrix), format=\"csr\")"
   ]
  },
  {
   "cell_type": "code",
   "execution_count": null,
   "metadata": {},
   "outputs": [],
   "source": [
    "hours_alarm_schedule = clf.predict(df_all_features)"
   ]
  },
  {
   "cell_type": "code",
   "execution_count": null,
   "metadata": {},
   "outputs": [],
   "source": [
    "hours_alarm_schedule"
   ]
  }
 ],
 "metadata": {
  "interpreter": {
   "hash": "b0fa6594d8f4cbf19f97940f81e996739fb7646882a419484c72d19e05852a7e"
  },
  "kernelspec": {
   "display_name": "Python 3.11.2 64-bit",
   "language": "python",
   "name": "python3"
  },
  "language_info": {
   "codemirror_mode": {
    "name": "ipython",
    "version": 3
   },
   "file_extension": ".py",
   "mimetype": "text/x-python",
   "name": "python",
   "nbconvert_exporter": "python",
   "pygments_lexer": "ipython3",
   "version": "3.11.3"
  },
  "orig_nbformat": 4
 },
 "nbformat": 4,
 "nbformat_minor": 2
}
