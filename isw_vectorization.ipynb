{
 "cells": [
  {
   "cell_type": "code",
   "execution_count": 22,
   "id": "12d122a8",
   "metadata": {},
   "outputs": [],
   "source": [
    "import os\n",
    "import pandas as pd\n",
    "import csv\n",
    "import string\n",
    "import nltk\n",
    "import numpy as np\n",
    "import copy\n",
    "import pickle\n",
    "import re\n",
    "import math\n",
    "from IPython.display import display, HTML\n",
    "\n",
    "from nltk.corpus import stopwords\n",
    "from nltk.tokenize import word_tokenize\n",
    "from nltk.stem import PorterStemmer\n",
    "from nltk.stem import WordNetLemmatizer\n",
    "from collections import Counter\n",
    "from num2words import num2words\n",
    "\n",
    "from sklearn.feature_extraction.text import CountVectorizer, TfidfVectorizer\n",
    "from sklearn.feature_extraction.text import TfidfTransformer"
   ]
  },
  {
   "cell_type": "code",
   "execution_count": 31,
   "id": "d18fc487",
   "metadata": {},
   "outputs": [
    {
     "name": "stderr",
     "output_type": "stream",
     "text": [
      "[nltk_data] Downloading package punkt to /home/vlad/nltk_data...\n",
      "[nltk_data]   Package punkt is already up-to-date!\n",
      "[nltk_data] Downloading package stopwords to /home/vlad/nltk_data...\n",
      "[nltk_data]   Package stopwords is already up-to-date!\n",
      "[nltk_data] Downloading package wordnet to /home/vlad/nltk_data...\n"
     ]
    },
    {
     "data": {
      "text/plain": [
       "True"
      ]
     },
     "execution_count": 31,
     "metadata": {},
     "output_type": "execute_result"
    }
   ],
   "source": [
    "# nltk.download('punkt')\n",
    "# nltk.download('stopwords')\n",
    "# nltk.download('wordnet')"
   ]
  },
  {
   "cell_type": "code",
   "execution_count": 10,
   "id": "a0c00496",
   "metadata": {},
   "outputs": [
    {
     "name": "stdout",
     "output_type": "stream",
     "text": [
      "['reports_processed.csv', 'reports.csv']\n"
     ]
    }
   ],
   "source": [
    "print(os.listdir('data/isw'))"
   ]
  },
  {
   "cell_type": "code",
   "execution_count": 11,
   "id": "a511864d",
   "metadata": {},
   "outputs": [],
   "source": [
    "data_path = 'data/isw/reports_processed.csv'"
   ]
  },
  {
   "cell_type": "code",
   "execution_count": 12,
   "id": "1a465f7f",
   "metadata": {},
   "outputs": [],
   "source": [
    "data = pd.read_csv(data_path, on_bad_lines='skip', sep=';')"
   ]
  },
  {
   "cell_type": "code",
   "execution_count": 13,
   "id": "72d05ad3",
   "metadata": {},
   "outputs": [
    {
     "data": {
      "text/html": [
       "<div>\n",
       "<style scoped>\n",
       "    .dataframe tbody tr th:only-of-type {\n",
       "        vertical-align: middle;\n",
       "    }\n",
       "\n",
       "    .dataframe tbody tr th {\n",
       "        vertical-align: top;\n",
       "    }\n",
       "\n",
       "    .dataframe thead th {\n",
       "        text-align: right;\n",
       "    }\n",
       "</style>\n",
       "<table border=\"1\" class=\"dataframe\">\n",
       "  <thead>\n",
       "    <tr style=\"text-align: right;\">\n",
       "      <th></th>\n",
       "      <th>date</th>\n",
       "      <th>url</th>\n",
       "      <th>page_title</th>\n",
       "      <th>content_title</th>\n",
       "      <th>content_html</th>\n",
       "      <th>content_text</th>\n",
       "    </tr>\n",
       "  </thead>\n",
       "  <tbody>\n",
       "    <tr>\n",
       "      <th>0</th>\n",
       "      <td>2022-02-25</td>\n",
       "      <td>https://www.understandingwar.org/backgrounder/...</td>\n",
       "      <td>Russia-Ukraine Warning Update: Russian Offensi...</td>\n",
       "      <td>Russia-Ukraine Warning Update: Russian Offensi...</td>\n",
       "      <td>&lt;div class=\"field field-name-body field-type-t...</td>\n",
       "      <td>\\nRussian forces entered major Ukrainian citie...</td>\n",
       "    </tr>\n",
       "    <tr>\n",
       "      <th>1</th>\n",
       "      <td>2022-02-26</td>\n",
       "      <td>https://www.understandingwar.org/backgrounder/...</td>\n",
       "      <td>Russia-Ukraine Warning Update: Russian Offensi...</td>\n",
       "      <td>Russia-Ukraine Warning Update: Russian Offensi...</td>\n",
       "      <td>&lt;div class=\"field field-name-body field-type-t...</td>\n",
       "      <td>\\nRussian forces’ main axes of advance in the ...</td>\n",
       "    </tr>\n",
       "    <tr>\n",
       "      <th>2</th>\n",
       "      <td>2022-02-27</td>\n",
       "      <td>https://www.understandingwar.org/backgrounder/...</td>\n",
       "      <td>Russia-Ukraine Warning Update: Russian Offensi...</td>\n",
       "      <td>Russia-Ukraine Warning Update: Russian Offensi...</td>\n",
       "      <td>&lt;div class=\"field field-name-body field-type-t...</td>\n",
       "      <td>\\nThe Russian military has likely recognized t...</td>\n",
       "    </tr>\n",
       "    <tr>\n",
       "      <th>3</th>\n",
       "      <td>2022-02-28</td>\n",
       "      <td>https://www.understandingwar.org/backgrounder/...</td>\n",
       "      <td>Russian Offensive Campaign Assessment, Februar...</td>\n",
       "      <td>Russian Offensive Campaign Assessment, Februar...</td>\n",
       "      <td>&lt;div class=\"field field-name-body field-type-t...</td>\n",
       "      <td>\\nThe Russian military is reorganizing its mil...</td>\n",
       "    </tr>\n",
       "    <tr>\n",
       "      <th>4</th>\n",
       "      <td>2022-03-01</td>\n",
       "      <td>https://www.understandingwar.org/backgrounder/...</td>\n",
       "      <td>Russian Offensive Campaign Assessment, March 1...</td>\n",
       "      <td>Russian Offensive Campaign Assessment, March 1</td>\n",
       "      <td>&lt;div class=\"field field-name-body field-type-t...</td>\n",
       "      <td>\\nRussian forces are completing the reinforcem...</td>\n",
       "    </tr>\n",
       "  </tbody>\n",
       "</table>\n",
       "</div>"
      ],
      "text/plain": [
       "         date                                                url  \\\n",
       "0  2022-02-25  https://www.understandingwar.org/backgrounder/...   \n",
       "1  2022-02-26  https://www.understandingwar.org/backgrounder/...   \n",
       "2  2022-02-27  https://www.understandingwar.org/backgrounder/...   \n",
       "3  2022-02-28  https://www.understandingwar.org/backgrounder/...   \n",
       "4  2022-03-01  https://www.understandingwar.org/backgrounder/...   \n",
       "\n",
       "                                          page_title  \\\n",
       "0  Russia-Ukraine Warning Update: Russian Offensi...   \n",
       "1  Russia-Ukraine Warning Update: Russian Offensi...   \n",
       "2  Russia-Ukraine Warning Update: Russian Offensi...   \n",
       "3  Russian Offensive Campaign Assessment, Februar...   \n",
       "4  Russian Offensive Campaign Assessment, March 1...   \n",
       "\n",
       "                                       content_title  \\\n",
       "0  Russia-Ukraine Warning Update: Russian Offensi...   \n",
       "1  Russia-Ukraine Warning Update: Russian Offensi...   \n",
       "2  Russia-Ukraine Warning Update: Russian Offensi...   \n",
       "3  Russian Offensive Campaign Assessment, Februar...   \n",
       "4     Russian Offensive Campaign Assessment, March 1   \n",
       "\n",
       "                                        content_html  \\\n",
       "0  <div class=\"field field-name-body field-type-t...   \n",
       "1  <div class=\"field field-name-body field-type-t...   \n",
       "2  <div class=\"field field-name-body field-type-t...   \n",
       "3  <div class=\"field field-name-body field-type-t...   \n",
       "4  <div class=\"field field-name-body field-type-t...   \n",
       "\n",
       "                                        content_text  \n",
       "0  \\nRussian forces entered major Ukrainian citie...  \n",
       "1  \\nRussian forces’ main axes of advance in the ...  \n",
       "2  \\nThe Russian military has likely recognized t...  \n",
       "3  \\nThe Russian military is reorganizing its mil...  \n",
       "4  \\nRussian forces are completing the reinforcem...  "
      ]
     },
     "metadata": {},
     "output_type": "display_data"
    },
    {
     "name": "stdout",
     "output_type": "stream",
     "text": [
      "<class 'pandas.core.frame.DataFrame'>\n",
      "RangeIndex: 332 entries, 0 to 331\n",
      "Data columns (total 6 columns):\n",
      " #   Column         Non-Null Count  Dtype \n",
      "---  ------         --------------  ----- \n",
      " 0   date           332 non-null    object\n",
      " 1   url            332 non-null    object\n",
      " 2   page_title     332 non-null    object\n",
      " 3   content_title  332 non-null    object\n",
      " 4   content_html   332 non-null    object\n",
      " 5   content_text   332 non-null    object\n",
      "dtypes: object(6)\n",
      "memory usage: 15.7+ KB\n"
     ]
    },
    {
     "data": {
      "text/plain": [
       "None"
      ]
     },
     "metadata": {},
     "output_type": "display_data"
    }
   ],
   "source": [
    "display(data.head())\n",
    "display(data.info())"
   ]
  },
  {
   "cell_type": "code",
   "execution_count": 14,
   "id": "d5501655",
   "metadata": {},
   "outputs": [
    {
     "data": {
      "text/html": [
       "\n",
       "Russian forces’ main axes of advance in the last 24 hours focused on Kyiv, northeastern Ukraine, and southern Ukraine. Russian airborne and special forces troops are engaged in urban warfare in northwestern Kyiv, but Russian mechanized forces are not yet in the capital. Russian forces from Crimea have changed their primary axes of advance from a presumed drive toward Odesa to focus on pushing north toward Zaporizhie and the southeastern bend of the Dnipro River and east along the Azov Sea coast toward Mariupol. These advances risk cutting off the large concentrations of Ukrainian forces still defending the former line of contact between unoccupied Ukraine and occupied Donbas. Ukrainian leaders may soon face the painful decision of ordering the withdrawal of those forces and the ceding of more of eastern Ukraine or allowing much of Ukraine’s uncommitted conventional combat power to be encircled and destroyed. There are no indications as yet of whether the Ukrainian government is considering this decision point.\n",
       "Ukrainian resistance remains remarkably effective and Russian operations especially on the Kyiv axis have been poorly coordinated and executed, leading to significant Russian failures on that axis and at Kharkiv. Russian forces remain much larger and more capable than Ukraine’s conventional military, however, and Russian advances in southern Ukraine may threaten to unhinge the defense of Kyiv and northeastern Ukraine if they continue unchecked.\n",
       "Key Takeaways\n",
       "Russia has failed to encircle and isolate Kyiv with the combination of mechanized and airborne attacks as it had clearly planned to do. Russian forces are now engaging in more straightforward mechanized drives into the capital along a narrow front along the west bank of the Dnipro River and toward Kyiv from a broad front to the northeast.\n",
       "Russian forces have temporarily abandoned failed efforts to seize Chernihiv and Kharkiv to the northeast and east of Kyiv and are bypassing those cities to continue their drive on Kyiv.  Russian attacks against both cities appear to have been poorly designed and executed and to have encountered more determined and effective Ukrainian resistance than they expected.\n",
       "Russian movements in eastern Ukraine remain primarily focused on pinning the large concentration of Ukrainian conventional forces arrayed along the former line of contact in the east, likely to prevent them from interfering with Russian drives on Kyiv and to facilitate their encirclement and destruction.\n",
       "Russian forces coming north from Crimea halted their drive westward toward Odesa, and Ukrainian forces have retaken the critical city of Kherson. Some Russian troops remain west of the Dnipro River and are advancing on Mikolayiv, but the main axes of advance have shifted to the north and east toward Zaporizhie and Mariupol respectively.\n",
       "Russian forces have taken the critical city of Berdyansk from the west, threatening to encircle Mariupol even as Russian forces based in occupied Donbas attack Mariupol from the east, likely to pin defenders in the city as they are encircled.\n",
       "Russian successes in southern Ukraine are the most dangerous and threaten to unhinge Ukraine’s successful defenses and rearguard actions to the north and northeast.\n",
       "Russian troops are facing growing morale and logistics issues, predictable consequences of the poor planning, coordination, and execution of attacks along Ukraine’s northern border.\n",
       "Russia has surprisingly failed to gain air superiority or ground the Ukrainian air force after three days of fighting. The Ukrainian General Staff reported at 11am local time that Ukrainian aircraft conducted 34 sorties in the past 24 hours. Ukrainian air defenses remained active as of 6am local time, with the Ukrainian General Staff stating a S-300 downed a Russian Su-25 fighter and an unspecified helicopter over Donbas early on February 26. Ukrainian forces likely shot down a Russian Il-76 transport aircraft over Kyiv the night of February 25. Russian airstrikes concentrated on northern Kyiv, Mariupol, and unspecified Ukrainian airports on February 26. Russian forces continue to refrain from using the full array of air and missile capabilities available to them. Moscow may seek to limit the informational and diplomatic effects of causing heavy Ukrainian civilian casualties, and may also seek to avoid creating rubble and other obstacles to movement into and through Ukrainian cities. Russian forces will likely increase their use of fires in coming days to overcome heavier-than-anticipated Ukrainian resistance, however.\n",
       "Russian forces in northeast Ukraine face growing morale and supply issues, likely due to poor planning and ad hoc command structures, as ISW previously forecasted. Several reports emerged on Ukrainian social media February 25-26 of Russian forces lost and running low on fuel in northeastern Ukraine. A Russian riot police reportedly conducted an unsupported attack on eastern Kyiv and suffered heavy casualties late on February 25, likely symptomatic of wider Russian coordination issues. Several US and European intelligence sources reportedly assess the Kremlin has had to adjust plans and commit more capabilities than anticipated at this point in the Russian invasion of Ukraine.\n",
       "Russian ground forces are advancing on four primary axes, discussed in turn below:\n",
       "Kyiv (NOTE: This is an alteration to our previous description of this axis, as we are now discussing Russian operations in Kyiv as a single line of effort);\n",
       "Northeast front (NOTE: Russian forces have now advanced on a broad axis between Chernihiv and Kharkiv, and this section will discuss the entire northeastern Russian advance);\n",
       "Donbas; and\n",
       "Crimea-Kherson.\n",
       "1)     Kyiv axis: Russia’s likely main effort to rapidly isolate Kyiv and force the Ukrainian government to capitulate has failed as of February 26. Russian forces entered downtown Kyiv along the western bank of the Dnipro River the night of February 25, but Russian forces have so far failed to enter the city from the east. Russian troops have not yet committed heavy armor and artillery forces to fighting in Kyiv and will likely need to do so to take the city. Ukrainian forces are unlikely to capitulate.\n",
       "The Russian military’s main effort remains seizing Kyiv in an effort to force the Ukrainian government to capitulate. The Ukrainian General Staff reported at 11am local time February 26 that Ukrainian forces halted 14 Russian BTGs northeast of Kyiv and that Russia has committed its northern reserves – an additional 17 BTGs – along this operational direction.\n",
       "If the Russians have abandoned for now the attempt to encircle Kyiv and committed to frontal assaults from the northwest and east/northeast, then the Ukrainians would be in close to the optimal scenario for defending their capital. The Russians could change that situation either by getting forces from the northeast axis across the river south of Kyiv and encircling in that way, by using forces from Crimea to drive all the way to Kyiv from the south, or by re-attempting and finally succeeding in airlanding airborne troops to the southeast of the capital.  Russia’s surprising failure to accomplish its initial planned objectives around Kyiv has given the Ukrainians an opportunity.\n",
       "Russian forces entered downtown Kyiv on the west bank of the Dnipro River the night of February 25. Urban combat continued the night of February 25-26. Only lighter Russian units – VDV (Airborne) and Special Forces – have entered Kyiv as of 7pm local time on February 26. Russian forces have not yet committed heavy armor and artillery to urban fighting in Kyiv.\n",
       "Russian forces have likely only entered Kyiv on a narrow band along the west bank of the Dnipro River. Russian forces have not completely isolated Kyiv and Ukrainian forces retain defensive positions in western Kyiv Oblast. Ukrainian forces reported halted Russian armored advances on Kyiv at Borodyanka, Bucha, and Vyshhorod at 11am local time February 26.\n",
       "The Ukrainian military claimed to shoot down two Russian Il-76 transport planes (Russia’s equivalent of the US C-17) over Kyiv late on February 25. These claims have not yet been confirmed by other sources. If true, they may indicate Ukrainian troops have inflicted losses on a Russian airborne operation around Kyiv.\n",
       "ISW cannot currently confirm the location or effectiveness of Russian sabotage groups reportedly active in downtown Kyiv as of February 25.\n",
       "Ukrainian forces and civilians continued preparations to fight for Kyiv block-by-block on February 25-26. Territorial defense units and armed civilians began establishing roadblocks and defensive positions throughout Kyiv overnight. The Ukrainian government is distributing small arms and instructions to make Molotov Cocktails to civilians.\n",
       "2)     Northeast axis: Russian forces advanced on a broad front between Chernihiv and Kharkiv on February 26 after Ukrainian forces halted direct Russian advances through both cities on February 24-25. Ukrainian forces continue to delay and inflict losses on the Russian advance but will likely not be able to halt further advances if the Kremlin commits additional reserves.\n",
       "Ukrainian forces reported halting Russian advances on an axis roughly running through Nizhyn, Velyka Doroha, Obychiv, and Okhtyrka at 11am local time February 26. Russian forces have likely penetrated northeastern Ukraine on a broad axis to the P67 highway, approximately 120km northeast of Kyiv.\n",
       "Russian forces likely bypassed Kharkiv early on February 26 and may have enveloped it but have not yet entered the city center. Russian tank and motor rifle units are reportedly continuing direct assaults on the city and shelling residential areas. Russian forces entered Volokhov Yar, 70km southeast of Kharkiv, at 11am local time on February 26. Ukrainian forces took prisoners from the Russian 2nd Tank Division and 138th Guards Motor Rifle Brigade at unspecified locations around Kharkiv on February 26.\n",
       "Ukrainian forces confirmed that elements of Russia’s 1st Guards Tank Army and 20th Combined Arms Army comprise the main Russian force in northeast Ukraine. Ukrainian forces additionally captured Russian troops from the 35th Motor Rifle Brigade of the 41st Combined Arms Army, including a battalion chief of staff, likely near Chernihiv.\n",
       "The Ukrainian General Staff reported at 6am local time that Russian forces retain an uncommitted reserve from the 35th Combined Arms Army around Mazyr, in southeastern Belarus.\n",
       "3)     Donbas axis: Russian forces continued to deprioritize direct assaults in Donbas or an enveloping maneuver through Luhansk Oblast. Russian forces likely intend to pin Ukrainian forces in place on the line of contact to enable Russian forces breaking out of Crimea to isolate them. The Russians may be content to leave them there while concentrating on capturing Kyiv and imposing a new government on Ukraine. They may alternatively seek to encircle and destroy them or force them to surrender.\n",
       "Russian forces made limited advances on February 26 in Donetsk and Luhansk, reportedly capturing Stanysia Luuhanska, Volnovakha, and Starohnativka. Ukrainian forces remain largely in place on the line of contact in Donbas.\n",
       "Russian forces attacking in northern Luhansk Oblast made little progress as of February 26. ISW’s initial assessment that Russian forces would likely attempt an envelopment through Luhansk Oblast was incorrect. Russian forces likely seek to achieve a larger envelopment using forces breaking out from Crimea and currently advancing on Mariupol from the west.\n",
       "Russian forces are continuing assaults on Mariupol from the northeast but have yet to enter outskirts of the city. Russian proxies claimed to capture Pishchevik and Pavlopol, 25km northeast of Mariupol, the morning of February 26. Russian forces carried out airstrikes on suburbs of Mariupol at 3pm local time on February 26.\n",
       "4)     Crimea axis: Russian forces advancing north towards Zaprozhia and east towards Mariupol threaten to isolate Ukrainian forces on the line of contact in Donbas if they do not withdraw. Russian forces from the Southern Military District continue to make the greatest advances and demonstrate the highest capabilities of Russia’s multiple axes of advance. Ukrainian forces recaptured Kherson the night of February 25-26. However, Russian forces will likely counterattack within the next 24 hours and Russian forces remain west of the Dnipro River, threatening Mikolayiv.\n",
       "Russian forces in Crimea are advancing directly north towards Zaprozhia, entering Velyka Bilozerka and Tokmak – approximately 80km south of Zaprozhia – as of 3pm local time on February 26. These forces will likely enter Zaprozhia within the next 48 hours at current rates of advance. They may then either continue north to Dnipro City, or pivot east to isolate Ukrainian forces in Donbas.\n",
       "Russian forces advancing east out of Crimea captured Berdyansk, 70km west of Mariupol, early on February 26. Russian forces previously secured Melitopol late on February 25. These Russian forces will likely encircle Mariupol within the next 48 hours. They may alternatively – or additionally – drive north, isolating Ukrainian forces on the line of contact in Donbas.\n",
       "Western sources have inaccurately reported the unopposed deployment of Russian Naval Infantry in Russian-controlled Azovskoye, just north of Crimea, as an amphibious landing.  An anonymous US official told CNN on February 25 that “potentially thousands” of Russian troops conducted a landing west of Mariupol, which was inaccurately reported as an opposed landing. These Naval Infantry forces will likely support Russian operations to isolate Mariupol. Russia has not yet conducted an opposed amphibious landing in southern Ukraine.\n",
       "Ukrainian forces recaptured Kherson as of 9am local time on February 26. Ukrainian forces additionally retained control of Nova Kakhovka as of 9am local time following heavy fighting overnight. Russian forces will likely attempt a second assault on the city in the next 24 hours.\n",
       "Russian forces entered the outskirts of Mikolaiyv early on February 26. ISW cannot assess what strength of Russian forces have crossed the Dnipro River and their capability to threaten Odessa – or lack thereof – if cut off by the Ukrainian recapture of Kherson.\n",
       "Ukrainian forces reported up to 3 BTGs of Russian second echelon troops from the 58th Combined Arms Army were committed to the advance on Tavriis'k, east of Kherson along the Dnipro River, early on February 26.\n",
       "Russian forces may additionally be preparing for an additional line of advance from Belarus into Western Ukraine. ISW previously reported a Russian armored column assembling in Stolin, Belarus on February 25 to support a possible advance into Rivne Oblast, in western Ukraine. The Ukrainian Border Service reported cross-border shelling into Rivne Oblast from Belarus at 3pm local time on February 26. Russian forces have not launched a ground attack as of publication. A Russian offensive in western Ukraine would likely seek to cut Ukraine off from ground shipments of Western aid through Poland, Slovakia, and Hungary.\n",
       "Immediate items to watch\n",
       "Russian forces advancing north and east from Crimea threaten to cut off Ukrainian forces in eastern Ukraine if Kyiv des not withdraw them in the coming days.\n",
       "Russian forces face growing morale and supply issues but will likely be able to overcome these handicaps.\n",
       "Russian Naval Infantry have not yet conducted opposed amphibious landings but retain the capability to do so against the Odesa or the Azov Sea coasts or both.\n",
       "Russian forces continue to refrain from using their likely full spectrum of air and missile capabilities. The Ukrainian air force also remains active. Russian operations will likely steadily wear down Ukrainian air capabilities as well eventually taking the Ukrainian air force out of the fight.\n",
       "Russia has sufficient conventional military power to reinforce each of its current axes of advance and overpower conventional Ukrainian forces defending them.\n",
       " \n",
       "\n",
       "\n"
      ],
      "text/plain": [
       "<IPython.core.display.HTML object>"
      ]
     },
     "execution_count": 14,
     "metadata": {},
     "output_type": "execute_result"
    }
   ],
   "source": [
    "content = data.iloc[1]['content_text']\n",
    "HTML(content)"
   ]
  },
  {
   "cell_type": "code",
   "execution_count": 36,
   "id": "295b42d0",
   "metadata": {},
   "outputs": [],
   "source": [
    "def remove_one_letter_word(data):\n",
    "    words = word_tokenize(str(data))\n",
    "    \n",
    "    new_text = \"\"\n",
    "    for word in words:\n",
    "        if len(word) > 1:\n",
    "            new_text = new_text + \" \" + word\n",
    "    return new_text\n",
    "\n",
    "def convert_lower_case(data):\n",
    "    return np.char.lower(data)\n",
    "\n",
    "def remove_stop_words(data):\n",
    "    stop_words = set(stopwords.words('english'))\n",
    "    stop_stop_words = {\"no\", \"not\"}\n",
    "    stop_words = stop_words - stop_stop_words\n",
    "    \n",
    "    words = word_tokenize(str(data))\n",
    "    \n",
    "    new_text = \"\"\n",
    "    for word in words:\n",
    "        if word not in stop_words and len(word) > 1:\n",
    "            new_text = new_text + \" \" + word\n",
    "    return new_text \n",
    "\n",
    "def remove_punctuation(data):\n",
    "    symbols = \"!\\\"#$%^&*—()_-=+@:;?<>`{|}[\\]~\\n\"\n",
    "    \n",
    "    for i in range(len(symbols)):\n",
    "        data = np.char.replace(data, symbols[i], ' ')\n",
    "        data = np.char.replace(data, \"  \", \" \")\n",
    "    data = np.char.replace(data, ',', '')\n",
    "    return data\n",
    "\n",
    "def remove_apostrophe(data):\n",
    "    return np.char.replace(data, \"'\", \"\")\n"
   ]
  },
  {
   "cell_type": "code",
   "execution_count": 37,
   "id": "8e9589aa",
   "metadata": {},
   "outputs": [],
   "source": [
    "def stemming(data):\n",
    "    stemmer = PorterStemmer()\n",
    "    \n",
    "    tokens = word_tokenize(str(data))\n",
    "    new_text = \"\"\n",
    "    for token in tokens:\n",
    "        new_text = new_text + \" \" + stemmer.stem(token)\n",
    "    return new_text\n",
    "\n",
    "def lemmatizing(data):\n",
    "    lemmatizer = WordNetLemmatizer()\n",
    "    \n",
    "    tokens = word_tokenize(str(data))\n",
    "    new_text = \"\"\n",
    "    for token in tokens:\n",
    "        new_text = new_text + \" \" + lemmatizer.lemmatize(token)\n",
    "    return new_text"
   ]
  },
  {
   "cell_type": "code",
   "execution_count": 38,
   "id": "708598db",
   "metadata": {},
   "outputs": [],
   "source": [
    "def convert_numbers(data):\n",
    "    tokens = word_tokenize(str(data))\n",
    "    new_text = \"\"\n",
    "    for token in tokens:\n",
    "        if token.isdigit():\n",
    "            if int(token) < 100000000000:\n",
    "                token = num2words(token)\n",
    "            else:\n",
    "                token = ''\n",
    "        new_text = new_text + \" \" + token\n",
    "    new_text = np.char.replace(new_text, \"-\", \" \")\n",
    "    return new_text\n",
    "\n",
    "def remove_url_from_string(data):\n",
    "    words = word_tokenize(str(data))\n",
    "    \n",
    "    new_text = \"\"\n",
    "    for word in words:\n",
    "        word = re.sub(r'^https?:\\/\\/.*[\\r\\n]*', '', str(word), flags=re.MULTILINE)\n",
    "        word = re.sub(r'^http?:\\/\\/.*[\\r\\n]*', '', str(word), flags=re.MULTILINE)\n",
    "        \n",
    "        new_text = new_text + \" \" + word\n",
    "    return new_text"
   ]
  },
  {
   "cell_type": "code",
   "execution_count": 39,
   "id": "b71501e2",
   "metadata": {},
   "outputs": [],
   "source": [
    "def preprocess(data, word_root_algo=\"lemm\"):\n",
    "    data = remove_one_letter_word(data)\n",
    "    data = remove_url_from_string(data)\n",
    "    data = convert_lower_case(data)\n",
    "    data = remove_punctuation(data)\n",
    "    data = remove_apostrophe(data)\n",
    "    data = remove_stop_words(data)\n",
    "    data = convert_numbers(data)\n",
    "    data = stemming(data)\n",
    "    data = remove_punctuation(data)\n",
    "    data = convert_numbers(data)\n",
    "    \n",
    "    if word_root_algo == \"lemm\":\n",
    "        data = lemmatizing(data)\n",
    "    else:\n",
    "        data = stemming(data)\n",
    "        \n",
    "    data = remove_punctuation(data)\n",
    "    data = remove_stop_words(data)\n",
    "    \n",
    "    return data"
   ]
  },
  {
   "cell_type": "code",
   "execution_count": 40,
   "id": "eb59ab06",
   "metadata": {
    "scrolled": false
   },
   "outputs": [],
   "source": [
    "data['content_text_lemm'] = data['content_text'].apply(lambda x: preprocess(x, \"lemm\"))"
   ]
  },
  {
   "cell_type": "code",
   "execution_count": 41,
   "id": "c455eefe",
   "metadata": {},
   "outputs": [],
   "source": [
    "data['content_text_stem'] = data['content_text'].apply(lambda x: preprocess(x, \"stem\"))"
   ]
  },
  {
   "cell_type": "code",
   "execution_count": 42,
   "id": "67876afc",
   "metadata": {},
   "outputs": [
    {
     "data": {
      "text/html": [
       "<div>\n",
       "<style scoped>\n",
       "    .dataframe tbody tr th:only-of-type {\n",
       "        vertical-align: middle;\n",
       "    }\n",
       "\n",
       "    .dataframe tbody tr th {\n",
       "        vertical-align: top;\n",
       "    }\n",
       "\n",
       "    .dataframe thead th {\n",
       "        text-align: right;\n",
       "    }\n",
       "</style>\n",
       "<table border=\"1\" class=\"dataframe\">\n",
       "  <thead>\n",
       "    <tr style=\"text-align: right;\">\n",
       "      <th></th>\n",
       "      <th>date</th>\n",
       "      <th>url</th>\n",
       "      <th>page_title</th>\n",
       "      <th>content_title</th>\n",
       "      <th>content_html</th>\n",
       "      <th>content_text</th>\n",
       "      <th>content_text_lemm</th>\n",
       "      <th>content_text_stem</th>\n",
       "    </tr>\n",
       "  </thead>\n",
       "  <tbody>\n",
       "    <tr>\n",
       "      <th>0</th>\n",
       "      <td>2022-02-25</td>\n",
       "      <td>https://www.understandingwar.org/backgrounder/...</td>\n",
       "      <td>Russia-Ukraine Warning Update: Russian Offensi...</td>\n",
       "      <td>Russia-Ukraine Warning Update: Russian Offensi...</td>\n",
       "      <td>&lt;div class=\"field field-name-body field-type-t...</td>\n",
       "      <td>\\nRussian forces entered major Ukrainian citie...</td>\n",
       "      <td>russian forc enter major ukrainian citi inclu...</td>\n",
       "      <td>russian forc enter major ukrainian citi inclu...</td>\n",
       "    </tr>\n",
       "    <tr>\n",
       "      <th>1</th>\n",
       "      <td>2022-02-26</td>\n",
       "      <td>https://www.understandingwar.org/backgrounder/...</td>\n",
       "      <td>Russia-Ukraine Warning Update: Russian Offensi...</td>\n",
       "      <td>Russia-Ukraine Warning Update: Russian Offensi...</td>\n",
       "      <td>&lt;div class=\"field field-name-body field-type-t...</td>\n",
       "      <td>\\nRussian forces’ main axes of advance in the ...</td>\n",
       "      <td>russian forc main axe advanc last twenti four...</td>\n",
       "      <td>russian forc main axe advanc last twenti four...</td>\n",
       "    </tr>\n",
       "    <tr>\n",
       "      <th>2</th>\n",
       "      <td>2022-02-27</td>\n",
       "      <td>https://www.understandingwar.org/backgrounder/...</td>\n",
       "      <td>Russia-Ukraine Warning Update: Russian Offensi...</td>\n",
       "      <td>Russia-Ukraine Warning Update: Russian Offensi...</td>\n",
       "      <td>&lt;div class=\"field field-name-body field-type-t...</td>\n",
       "      <td>\\nThe Russian military has likely recognized t...</td>\n",
       "      <td>russian militari like recogn initi expect lim...</td>\n",
       "      <td>russian militari like recogn initi expect lim...</td>\n",
       "    </tr>\n",
       "    <tr>\n",
       "      <th>3</th>\n",
       "      <td>2022-02-28</td>\n",
       "      <td>https://www.understandingwar.org/backgrounder/...</td>\n",
       "      <td>Russian Offensive Campaign Assessment, Februar...</td>\n",
       "      <td>Russian Offensive Campaign Assessment, Februar...</td>\n",
       "      <td>&lt;div class=\"field field-name-body field-type-t...</td>\n",
       "      <td>\\nThe Russian military is reorganizing its mil...</td>\n",
       "      <td>russian militari reorgan militari effort atte...</td>\n",
       "      <td>russian militari reorgan militari effort atte...</td>\n",
       "    </tr>\n",
       "    <tr>\n",
       "      <th>4</th>\n",
       "      <td>2022-03-01</td>\n",
       "      <td>https://www.understandingwar.org/backgrounder/...</td>\n",
       "      <td>Russian Offensive Campaign Assessment, March 1...</td>\n",
       "      <td>Russian Offensive Campaign Assessment, March 1</td>\n",
       "      <td>&lt;div class=\"field field-name-body field-type-t...</td>\n",
       "      <td>\\nRussian forces are completing the reinforcem...</td>\n",
       "      <td>russian forc complet reinforc resuppli troop ...</td>\n",
       "      <td>russian forc complet reinforc resuppli troop ...</td>\n",
       "    </tr>\n",
       "  </tbody>\n",
       "</table>\n",
       "</div>"
      ],
      "text/plain": [
       "         date                                                url  \\\n",
       "0  2022-02-25  https://www.understandingwar.org/backgrounder/...   \n",
       "1  2022-02-26  https://www.understandingwar.org/backgrounder/...   \n",
       "2  2022-02-27  https://www.understandingwar.org/backgrounder/...   \n",
       "3  2022-02-28  https://www.understandingwar.org/backgrounder/...   \n",
       "4  2022-03-01  https://www.understandingwar.org/backgrounder/...   \n",
       "\n",
       "                                          page_title  \\\n",
       "0  Russia-Ukraine Warning Update: Russian Offensi...   \n",
       "1  Russia-Ukraine Warning Update: Russian Offensi...   \n",
       "2  Russia-Ukraine Warning Update: Russian Offensi...   \n",
       "3  Russian Offensive Campaign Assessment, Februar...   \n",
       "4  Russian Offensive Campaign Assessment, March 1...   \n",
       "\n",
       "                                       content_title  \\\n",
       "0  Russia-Ukraine Warning Update: Russian Offensi...   \n",
       "1  Russia-Ukraine Warning Update: Russian Offensi...   \n",
       "2  Russia-Ukraine Warning Update: Russian Offensi...   \n",
       "3  Russian Offensive Campaign Assessment, Februar...   \n",
       "4     Russian Offensive Campaign Assessment, March 1   \n",
       "\n",
       "                                        content_html  \\\n",
       "0  <div class=\"field field-name-body field-type-t...   \n",
       "1  <div class=\"field field-name-body field-type-t...   \n",
       "2  <div class=\"field field-name-body field-type-t...   \n",
       "3  <div class=\"field field-name-body field-type-t...   \n",
       "4  <div class=\"field field-name-body field-type-t...   \n",
       "\n",
       "                                        content_text  \\\n",
       "0  \\nRussian forces entered major Ukrainian citie...   \n",
       "1  \\nRussian forces’ main axes of advance in the ...   \n",
       "2  \\nThe Russian military has likely recognized t...   \n",
       "3  \\nThe Russian military is reorganizing its mil...   \n",
       "4  \\nRussian forces are completing the reinforcem...   \n",
       "\n",
       "                                   content_text_lemm  \\\n",
       "0   russian forc enter major ukrainian citi inclu...   \n",
       "1   russian forc main axe advanc last twenti four...   \n",
       "2   russian militari like recogn initi expect lim...   \n",
       "3   russian militari reorgan militari effort atte...   \n",
       "4   russian forc complet reinforc resuppli troop ...   \n",
       "\n",
       "                                   content_text_stem  \n",
       "0   russian forc enter major ukrainian citi inclu...  \n",
       "1   russian forc main axe advanc last twenti four...  \n",
       "2   russian militari like recogn initi expect lim...  \n",
       "3   russian militari reorgan militari effort atte...  \n",
       "4   russian forc complet reinforc resuppli troop ...  "
      ]
     },
     "execution_count": 42,
     "metadata": {},
     "output_type": "execute_result"
    }
   ],
   "source": [
    "data.head(5)"
   ]
  },
  {
   "cell_type": "code",
   "execution_count": 43,
   "id": "ba251ac3",
   "metadata": {},
   "outputs": [],
   "source": [
    "docs = data['content_text_lemm'].tolist()\n"
   ]
  },
  {
   "cell_type": "code",
   "execution_count": 44,
   "id": "4e1e076c",
   "metadata": {},
   "outputs": [
    {
     "data": {
      "text/plain": [
       "332"
      ]
     },
     "execution_count": 44,
     "metadata": {},
     "output_type": "execute_result"
    }
   ],
   "source": [
    "len(docs)"
   ]
  },
  {
   "cell_type": "code",
   "execution_count": 45,
   "id": "70f17101",
   "metadata": {},
   "outputs": [
    {
     "data": {
      "text/plain": [
       "(332, 6524)"
      ]
     },
     "execution_count": 45,
     "metadata": {},
     "output_type": "execute_result"
    }
   ],
   "source": [
    "cv = CountVectorizer(max_df=0.98, min_df=2)\n",
    "word_count_vector = cv.fit_transform(docs)\n",
    "\n",
    "word_count_vector.shape"
   ]
  },
  {
   "cell_type": "code",
   "execution_count": 49,
   "id": "29a99275",
   "metadata": {},
   "outputs": [],
   "source": [
    "with open(\"./data/isw/count_vectorizer_v1.pkl\", 'wb') as handle:\n",
    "    pickle.dump(cv, handle)"
   ]
  },
  {
   "cell_type": "code",
   "execution_count": 51,
   "id": "4c6a9b23",
   "metadata": {},
   "outputs": [
    {
     "data": {
      "text/html": [
       "<style>#sk-container-id-1 {color: black;background-color: white;}#sk-container-id-1 pre{padding: 0;}#sk-container-id-1 div.sk-toggleable {background-color: white;}#sk-container-id-1 label.sk-toggleable__label {cursor: pointer;display: block;width: 100%;margin-bottom: 0;padding: 0.3em;box-sizing: border-box;text-align: center;}#sk-container-id-1 label.sk-toggleable__label-arrow:before {content: \"▸\";float: left;margin-right: 0.25em;color: #696969;}#sk-container-id-1 label.sk-toggleable__label-arrow:hover:before {color: black;}#sk-container-id-1 div.sk-estimator:hover label.sk-toggleable__label-arrow:before {color: black;}#sk-container-id-1 div.sk-toggleable__content {max-height: 0;max-width: 0;overflow: hidden;text-align: left;background-color: #f0f8ff;}#sk-container-id-1 div.sk-toggleable__content pre {margin: 0.2em;color: black;border-radius: 0.25em;background-color: #f0f8ff;}#sk-container-id-1 input.sk-toggleable__control:checked~div.sk-toggleable__content {max-height: 200px;max-width: 100%;overflow: auto;}#sk-container-id-1 input.sk-toggleable__control:checked~label.sk-toggleable__label-arrow:before {content: \"▾\";}#sk-container-id-1 div.sk-estimator input.sk-toggleable__control:checked~label.sk-toggleable__label {background-color: #d4ebff;}#sk-container-id-1 div.sk-label input.sk-toggleable__control:checked~label.sk-toggleable__label {background-color: #d4ebff;}#sk-container-id-1 input.sk-hidden--visually {border: 0;clip: rect(1px 1px 1px 1px);clip: rect(1px, 1px, 1px, 1px);height: 1px;margin: -1px;overflow: hidden;padding: 0;position: absolute;width: 1px;}#sk-container-id-1 div.sk-estimator {font-family: monospace;background-color: #f0f8ff;border: 1px dotted black;border-radius: 0.25em;box-sizing: border-box;margin-bottom: 0.5em;}#sk-container-id-1 div.sk-estimator:hover {background-color: #d4ebff;}#sk-container-id-1 div.sk-parallel-item::after {content: \"\";width: 100%;border-bottom: 1px solid gray;flex-grow: 1;}#sk-container-id-1 div.sk-label:hover label.sk-toggleable__label {background-color: #d4ebff;}#sk-container-id-1 div.sk-serial::before {content: \"\";position: absolute;border-left: 1px solid gray;box-sizing: border-box;top: 0;bottom: 0;left: 50%;z-index: 0;}#sk-container-id-1 div.sk-serial {display: flex;flex-direction: column;align-items: center;background-color: white;padding-right: 0.2em;padding-left: 0.2em;position: relative;}#sk-container-id-1 div.sk-item {position: relative;z-index: 1;}#sk-container-id-1 div.sk-parallel {display: flex;align-items: stretch;justify-content: center;background-color: white;position: relative;}#sk-container-id-1 div.sk-item::before, #sk-container-id-1 div.sk-parallel-item::before {content: \"\";position: absolute;border-left: 1px solid gray;box-sizing: border-box;top: 0;bottom: 0;left: 50%;z-index: -1;}#sk-container-id-1 div.sk-parallel-item {display: flex;flex-direction: column;z-index: 1;position: relative;background-color: white;}#sk-container-id-1 div.sk-parallel-item:first-child::after {align-self: flex-end;width: 50%;}#sk-container-id-1 div.sk-parallel-item:last-child::after {align-self: flex-start;width: 50%;}#sk-container-id-1 div.sk-parallel-item:only-child::after {width: 0;}#sk-container-id-1 div.sk-dashed-wrapped {border: 1px dashed gray;margin: 0 0.4em 0.5em 0.4em;box-sizing: border-box;padding-bottom: 0.4em;background-color: white;}#sk-container-id-1 div.sk-label label {font-family: monospace;font-weight: bold;display: inline-block;line-height: 1.2em;}#sk-container-id-1 div.sk-label-container {text-align: center;}#sk-container-id-1 div.sk-container {/* jupyter's `normalize.less` sets `[hidden] { display: none; }` but bootstrap.min.css set `[hidden] { display: none !important; }` so we also need the `!important` here to be able to override the default hidden behavior on the sphinx rendered scikit-learn.org. See: https://github.com/scikit-learn/scikit-learn/issues/21755 */display: inline-block !important;position: relative;}#sk-container-id-1 div.sk-text-repr-fallback {display: none;}</style><div id=\"sk-container-id-1\" class=\"sk-top-container\"><div class=\"sk-text-repr-fallback\"><pre>TfidfTransformer()</pre><b>In a Jupyter environment, please rerun this cell to show the HTML representation or trust the notebook. <br />On GitHub, the HTML representation is unable to render, please try loading this page with nbviewer.org.</b></div><div class=\"sk-container\" hidden><div class=\"sk-item\"><div class=\"sk-estimator sk-toggleable\"><input class=\"sk-toggleable__control sk-hidden--visually\" id=\"sk-estimator-id-1\" type=\"checkbox\" checked><label for=\"sk-estimator-id-1\" class=\"sk-toggleable__label sk-toggleable__label-arrow\">TfidfTransformer</label><div class=\"sk-toggleable__content\"><pre>TfidfTransformer()</pre></div></div></div></div></div>"
      ],
      "text/plain": [
       "TfidfTransformer()"
      ]
     },
     "execution_count": 51,
     "metadata": {},
     "output_type": "execute_result"
    }
   ],
   "source": [
    "tfidf_transformer = TfidfTransformer(smooth_idf=True, use_idf=True)\n",
    "tfidf_transformer.fit(word_count_vector)"
   ]
  },
  {
   "cell_type": "code",
   "execution_count": 53,
   "id": "a7168ad8",
   "metadata": {},
   "outputs": [],
   "source": [
    "with open(\"./data/isw/tfidf_transformer_v1.pkl\", 'wb') as handle:\n",
    "    pickle.dump(tfidf_transformer, handle)"
   ]
  },
  {
   "cell_type": "code",
   "execution_count": 54,
   "id": "34cacab3",
   "metadata": {},
   "outputs": [
    {
     "data": {
      "text/html": [
       "<div>\n",
       "<style scoped>\n",
       "    .dataframe tbody tr th:only-of-type {\n",
       "        vertical-align: middle;\n",
       "    }\n",
       "\n",
       "    .dataframe tbody tr th {\n",
       "        vertical-align: top;\n",
       "    }\n",
       "\n",
       "    .dataframe thead th {\n",
       "        text-align: right;\n",
       "    }\n",
       "</style>\n",
       "<table border=\"1\" class=\"dataframe\">\n",
       "  <thead>\n",
       "    <tr style=\"text-align: right;\">\n",
       "      <th></th>\n",
       "      <th>idf_weights</th>\n",
       "    </tr>\n",
       "  </thead>\n",
       "  <tbody>\n",
       "    <tr>\n",
       "      <th>attack</th>\n",
       "      <td>1.021245</td>\n",
       "    </tr>\n",
       "    <tr>\n",
       "      <th>war</th>\n",
       "      <td>1.021245</td>\n",
       "    </tr>\n",
       "    <tr>\n",
       "      <th>luhansk</th>\n",
       "      <td>1.021245</td>\n",
       "    </tr>\n",
       "    <tr>\n",
       "      <th>arm</th>\n",
       "      <td>1.024317</td>\n",
       "    </tr>\n",
       "    <tr>\n",
       "      <th>posit</th>\n",
       "      <td>1.024317</td>\n",
       "    </tr>\n",
       "    <tr>\n",
       "      <th>...</th>\n",
       "      <td>...</td>\n",
       "    </tr>\n",
       "    <tr>\n",
       "      <th>jahongir</th>\n",
       "      <td>5.709530</td>\n",
       "    </tr>\n",
       "    <tr>\n",
       "      <th>starodubivka</th>\n",
       "      <td>5.709530</td>\n",
       "    </tr>\n",
       "    <tr>\n",
       "      <th>jail</th>\n",
       "      <td>5.709530</td>\n",
       "    </tr>\n",
       "    <tr>\n",
       "      <th>kashlyhach</th>\n",
       "      <td>5.709530</td>\n",
       "    </tr>\n",
       "    <tr>\n",
       "      <th>сухопутный</th>\n",
       "      <td>5.709530</td>\n",
       "    </tr>\n",
       "  </tbody>\n",
       "</table>\n",
       "<p>6524 rows × 1 columns</p>\n",
       "</div>"
      ],
      "text/plain": [
       "              idf_weights\n",
       "attack           1.021245\n",
       "war              1.021245\n",
       "luhansk          1.021245\n",
       "arm              1.024317\n",
       "posit            1.024317\n",
       "...                   ...\n",
       "jahongir         5.709530\n",
       "starodubivka     5.709530\n",
       "jail             5.709530\n",
       "kashlyhach       5.709530\n",
       "сухопутный       5.709530\n",
       "\n",
       "[6524 rows x 1 columns]"
      ]
     },
     "execution_count": 54,
     "metadata": {},
     "output_type": "execute_result"
    }
   ],
   "source": [
    "df_idf = pd.DataFrame(tfidf_transformer.idf_, index=cv.get_feature_names_out(), columns=[\"idf_weights\"])\n",
    "\n",
    "df_idf.sort_values(by=[\"idf_weights\"])"
   ]
  },
  {
   "cell_type": "code",
   "execution_count": 55,
   "id": "fef90270",
   "metadata": {},
   "outputs": [],
   "source": [
    "tf_idf_vector = tfidf_transformer.transform(word_count_vector)"
   ]
  },
  {
   "cell_type": "code",
   "execution_count": null,
   "id": "a3a554df",
   "metadata": {},
   "outputs": [],
   "source": []
  }
 ],
 "metadata": {
  "kernelspec": {
   "display_name": "Python 3 (ipykernel)",
   "language": "python",
   "name": "python3"
  },
  "language_info": {
   "codemirror_mode": {
    "name": "ipython",
    "version": 3
   },
   "file_extension": ".py",
   "mimetype": "text/x-python",
   "name": "python",
   "nbconvert_exporter": "python",
   "pygments_lexer": "ipython3",
   "version": "3.8.13"
  }
 },
 "nbformat": 4,
 "nbformat_minor": 5
}
