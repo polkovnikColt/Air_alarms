{
 "cells": [
  {
   "cell_type": "code",
   "execution_count": 1,
   "id": "aaf4b2c0",
   "metadata": {
    "scrolled": false
   },
   "outputs": [
    {
     "name": "stdout",
     "output_type": "stream",
     "text": [
      "https://weather.visualcrossing.com/VisualCrossingWebServices/rest/services/timeline/London,UK/1678729862/1678773062?key=3QULGS8KJPBECC4J3W7MPEF2T\n",
      "{'queryCost': 1, 'latitude': 51.5064, 'longitude': -0.12721, 'resolvedAddress': 'London, England, United Kingdom', 'address': 'London,UK', 'timezone': 'Europe/London', 'tzoffset': 0.0, 'description': 'Cooling down with a chance of rain tomorrow.', 'days': [{'datetime': '2023-03-13', 'datetimeEpoch': 1678665600, 'tempmax': 57.3, 'tempmin': 49.0, 'temp': 53.7, 'feelslikemax': 57.3, 'feelslikemin': 44.2, 'feelslike': 52.9, 'dew': 46.6, 'humidity': 77.5, 'precip': 0.036, 'precipprob': 100.0, 'precipcover': 20.83, 'preciptype': ['rain'], 'snow': 0.0, 'snowdepth': 0.0, 'windgust': 44.7, 'windspeed': 27.5, 'winddir': 230.2, 'pressure': 990.5, 'cloudcover': 91.7, 'visibility': 7.2, 'solarradiation': 62.3, 'solarenergy': 5.3, 'uvindex': 3.0, 'severerisk': 10.0, 'sunrise': '06:19:52', 'sunriseEpoch': 1678688392, 'sunset': '18:01:13', 'sunsetEpoch': 1678730473, 'moonphase': 0.71, 'conditions': 'Rain, Overcast', 'description': 'Cloudy skies throughout the day with rain.', 'icon': 'rain', 'stations': ['EGWU', 'EGLL', 'EGKK', 'EGGW', 'D5621', 'EGLC', 'EGKB'], 'source': 'comb', 'hours': '[{\"datetime\": \"18:00:00\", \"datetimeEpoch\": 1678730400, \"temp\": 53.5, \"feelslike\": 53.5, \"humidity\": 73.26, \"dew\": 45.1, \"precip\": 0.0, \"precipprob\": 0.0, \"snow\": 0.0, \"snowdepth\": 0.0, \"preciptype\": null, \"windgust\": 31.8, \"windspeed\": 18.8, \"winddir\": 224.0, \"pressure\": 986.9, \"visibility\": 5.8, \"cloudcover\": 89.7, \"solarradiation\": 8.0, \"solarenergy\": 0.0, \"uvindex\": 0.0, \"severerisk\": 10.0, \"conditions\": \"Partially cloudy\", \"icon\": \"partly-cloudy-day\", \"stations\": [\"EGWU\", \"EGLL\", \"EGKK\", \"EGGW\", \"D5621\", \"EGLC\", \"EGKB\"], \"source\": \"obs\"}, {\"datetime\": \"19:00:00\", \"datetimeEpoch\": 1678734000, \"temp\": 51.9, \"feelslike\": 51.9, \"humidity\": 77.54, \"dew\": 45.1, \"precip\": 0.004, \"precipprob\": 0.0, \"snow\": 0.0, \"snowdepth\": 0.0, \"preciptype\": [\"rain\"], \"windgust\": 29.2, \"windspeed\": 16.2, \"winddir\": 220.0, \"pressure\": 986.8, \"visibility\": 6.1, \"cloudcover\": 88.0, \"solarradiation\": 0.0, \"solarenergy\": null, \"uvindex\": 0.0, \"severerisk\": 10.0, \"conditions\": \"Partially cloudy\", \"icon\": \"partly-cloudy-night\", \"stations\": [\"EGWU\", \"EGLL\", \"EGKK\", \"EGGW\", \"EGLC\", \"EGKB\"], \"source\": \"obs\"}, {\"datetime\": \"20:00:00\", \"datetimeEpoch\": 1678737600, \"temp\": 49.7, \"feelslike\": 45.3, \"humidity\": 86.78, \"dew\": 45.9, \"precip\": 0.0, \"precipprob\": 47.6, \"snow\": 0.0, \"snowdepth\": 0.0, \"preciptype\": [\"rain\"], \"windgust\": 27.7, \"windspeed\": 11.2, \"winddir\": 223.7, \"pressure\": 987.0, \"visibility\": 15.0, \"cloudcover\": 89.2, \"solarradiation\": 0.0, \"solarenergy\": null, \"uvindex\": 0.0, \"severerisk\": 10.0, \"conditions\": \"Rain, Partially cloudy\", \"icon\": \"rain\", \"stations\": null, \"source\": \"fcst\"}, {\"datetime\": \"21:00:00\", \"datetimeEpoch\": 1678741200, \"temp\": 49.4, \"feelslike\": 44.7, \"humidity\": 86.17, \"dew\": 45.4, \"precip\": 0.0, \"precipprob\": 47.6, \"snow\": 0.0, \"snowdepth\": 0.0, \"preciptype\": [\"rain\"], \"windgust\": 26.4, \"windspeed\": 11.9, \"winddir\": 224.5, \"pressure\": 987.0, \"visibility\": 12.0, \"cloudcover\": 97.0, \"solarradiation\": 0.0, \"solarenergy\": null, \"uvindex\": 0.0, \"severerisk\": 10.0, \"conditions\": \"Rain, Overcast\", \"icon\": \"rain\", \"stations\": null, \"source\": \"fcst\"}, {\"datetime\": \"22:00:00\", \"datetimeEpoch\": 1678744800, \"temp\": 49.0, \"feelslike\": 44.2, \"humidity\": 86.74, \"dew\": 45.2, \"precip\": 0.0, \"precipprob\": 47.6, \"snow\": 0.0, \"snowdepth\": 0.0, \"preciptype\": [\"rain\"], \"windgust\": 26.4, \"windspeed\": 11.9, \"winddir\": 223.4, \"pressure\": 986.0, \"visibility\": 15.0, \"cloudcover\": 98.5, \"solarradiation\": 0.0, \"solarenergy\": null, \"uvindex\": 0.0, \"severerisk\": 10.0, \"conditions\": \"Rain, Overcast\", \"icon\": \"rain\", \"stations\": null, \"source\": \"fcst\"}, {\"datetime\": \"23:00:00\", \"datetimeEpoch\": 1678748400, \"temp\": 49.2, \"feelslike\": 44.3, \"humidity\": 88.54, \"dew\": 45.9, \"precip\": 0.02, \"precipprob\": 47.6, \"snow\": 0.0, \"snowdepth\": 0.0, \"preciptype\": [\"rain\"], \"windgust\": 28.0, \"windspeed\": 12.3, \"winddir\": 222.5, \"pressure\": 986.0, \"visibility\": 15.0, \"cloudcover\": 100.0, \"solarradiation\": 0.0, \"solarenergy\": null, \"uvindex\": 0.0, \"severerisk\": 10.0, \"conditions\": \"Rain, Overcast\", \"icon\": \"rain\", \"stations\": null, \"source\": \"fcst\"}]'}, {'datetime': '2023-03-14', 'datetimeEpoch': 1678752000, 'tempmax': 49.2, 'tempmin': 36.4, 'temp': 42.3, 'feelslikemax': 44.4, 'feelslikemin': 31.2, 'feelslike': 36.7, 'dew': 31.8, 'humidity': 67.5, 'precip': 0.102, 'precipprob': 66.7, 'precipcover': 20.83, 'preciptype': ['rain', 'snow'], 'snow': 0.0, 'snowdepth': 0.0, 'windgust': 32.7, 'windspeed': 13.9, 'winddir': 291.9, 'pressure': 1003.0, 'cloudcover': 68.2, 'visibility': 12.6, 'solarradiation': 166.4, 'solarenergy': 14.4, 'uvindex': 6.0, 'severerisk': 10.0, 'sunrise': '06:17:36', 'sunriseEpoch': 1678774656, 'sunset': '18:02:56', 'sunsetEpoch': 1678816976, 'moonphase': 0.75, 'conditions': 'Snow, Rain, Partially cloudy', 'description': 'Partly cloudy throughout the day with rain or snow clearing later.', 'icon': 'rain', 'stations': None, 'source': 'fcst', 'hours': '[{\"datetime\": \"00:00:00\", \"datetimeEpoch\": 1678752000, \"temp\": 49.2, \"feelslike\": 44.4, \"humidity\": 90.37, \"dew\": 46.5, \"precip\": 0.047, \"precipprob\": 47.6, \"snow\": 0.0, \"snowdepth\": 0.0, \"preciptype\": [\"rain\"], \"windgust\": 27.3, \"windspeed\": 12.1, \"winddir\": 241.4, \"pressure\": 987.0, \"visibility\": 13.2, \"cloudcover\": 100.0, \"solarradiation\": 0.0, \"solarenergy\": null, \"uvindex\": 0.0, \"severerisk\": 10.0, \"conditions\": \"Rain, Overcast\", \"icon\": \"rain\", \"stations\": null, \"source\": \"fcst\"}, {\"datetime\": \"01:00:00\", \"datetimeEpoch\": 1678755600, \"temp\": 47.7, \"feelslike\": 43.1, \"humidity\": 70.84, \"dew\": 38.7, \"precip\": 0.031, \"precipprob\": 66.7, \"snow\": 0.0, \"snowdepth\": 0.0, \"preciptype\": [\"rain\"], \"windgust\": 29.1, \"windspeed\": 10.5, \"winddir\": 309.4, \"pressure\": 989.0, \"visibility\": 4.3, \"cloudcover\": 96.5, \"solarradiation\": 0.0, \"solarenergy\": null, \"uvindex\": 0.0, \"severerisk\": 10.0, \"conditions\": \"Rain, Overcast\", \"icon\": \"rain\", \"stations\": null, \"source\": \"fcst\"}, {\"datetime\": \"02:00:00\", \"datetimeEpoch\": 1678759200, \"temp\": 45.4, \"feelslike\": 39.1, \"humidity\": 71.6, \"dew\": 36.8, \"precip\": 0.0, \"precipprob\": 66.7, \"snow\": 0.0, \"snowdepth\": 0.0, \"preciptype\": [\"rain\"], \"windgust\": 30.2, \"windspeed\": 13.6, \"winddir\": 293.6, \"pressure\": 991.0, \"visibility\": 14.8, \"cloudcover\": 68.4, \"solarradiation\": 0.0, \"solarenergy\": null, \"uvindex\": 0.0, \"severerisk\": 10.0, \"conditions\": \"Rain, Partially cloudy\", \"icon\": \"rain\", \"stations\": null, \"source\": \"fcst\"}, {\"datetime\": \"03:00:00\", \"datetimeEpoch\": 1678762800, \"temp\": 42.5, \"feelslike\": 36.0, \"humidity\": 70.78, \"dew\": 33.7, \"precip\": 0.0, \"precipprob\": 66.7, \"snow\": 0.0, \"snowdepth\": 0.0, \"preciptype\": [\"rain\"], \"windgust\": 30.4, \"windspeed\": 12.1, \"winddir\": 287.9, \"pressure\": 992.0, \"visibility\": 0.1, \"cloudcover\": 96.1, \"solarradiation\": 0.0, \"solarenergy\": null, \"uvindex\": 0.0, \"severerisk\": 10.0, \"conditions\": \"Rain, Overcast\", \"icon\": \"rain\", \"stations\": null, \"source\": \"fcst\"}, {\"datetime\": \"04:00:00\", \"datetimeEpoch\": 1678766400, \"temp\": 41.3, \"feelslike\": 34.3, \"humidity\": 70.64, \"dew\": 32.4, \"precip\": 0.0, \"precipprob\": 66.7, \"snow\": 0.0, \"snowdepth\": 0.0, \"preciptype\": [\"rain\"], \"windgust\": 27.5, \"windspeed\": 12.3, \"winddir\": 284.0, \"pressure\": 994.0, \"visibility\": 2.4, \"cloudcover\": 97.9, \"solarradiation\": 0.0, \"solarenergy\": null, \"uvindex\": 0.0, \"severerisk\": 10.0, \"conditions\": \"Rain, Overcast\", \"icon\": \"rain\", \"stations\": null, \"source\": \"fcst\"}, {\"datetime\": \"05:00:00\", \"datetimeEpoch\": 1678770000, \"temp\": 40.0, \"feelslike\": 32.8, \"humidity\": 69.99, \"dew\": 31.0, \"precip\": 0.0, \"precipprob\": 66.7, \"snow\": 0.0, \"snowdepth\": 0.0, \"preciptype\": [\"rain\"], \"windgust\": 27.1, \"windspeed\": 12.1, \"winddir\": 277.0, \"pressure\": 995.0, \"visibility\": 0.7, \"cloudcover\": 36.0, \"solarradiation\": 0.0, \"solarenergy\": null, \"uvindex\": 0.0, \"severerisk\": 10.0, \"conditions\": \"Rain, Partially cloudy\", \"icon\": \"rain\", \"stations\": null, \"source\": \"fcst\"}]'}], 'alerts': [], 'stations': {'EGWU': {'distance': 20850.0, 'latitude': 51.55, 'longitude': -0.42, 'useCount': 0, 'id': 'EGWU', 'name': 'EGWU', 'quality': 50, 'contribution': 0.0}, 'EGLL': {'distance': 22564.0, 'latitude': 51.48, 'longitude': -0.45, 'useCount': 0, 'id': 'EGLL', 'name': 'EGLL', 'quality': 50, 'contribution': 0.0}, 'EGKK': {'distance': 39844.0, 'latitude': 51.15, 'longitude': -0.18, 'useCount': 0, 'id': 'EGKK', 'name': 'EGKK', 'quality': 50, 'contribution': 0.0}, 'EGGW': {'distance': 43807.0, 'latitude': 51.87, 'longitude': -0.37, 'useCount': 0, 'id': 'EGGW', 'name': 'EGGW', 'quality': 50, 'contribution': 0.0}, 'D5621': {'distance': 11192.0, 'latitude': 51.535, 'longitude': 0.028, 'useCount': 0, 'id': 'D5621', 'name': 'DW5621 Upton Park UK', 'quality': 0, 'contribution': 0.0}, 'EGLC': {'distance': 12300.0, 'latitude': 51.5, 'longitude': 0.05, 'useCount': 0, 'id': 'EGLC', 'name': 'EGLC', 'quality': 50, 'contribution': 0.0}, 'EGKB': {'distance': 23446.0, 'latitude': 51.32, 'longitude': 0.03, 'useCount': 0, 'id': 'EGKB', 'name': 'EGKB', 'quality': 32, 'contribution': 0.0}}, 'currentConditions': {'datetime': '19:36:06', 'datetimeEpoch': 1678736166, 'temp': 53.0, 'feelslike': 53.0, 'humidity': 75.9, 'dew': 45.6, 'precip': 0.0, 'precipprob': 0.0, 'snow': 0.0, 'snowdepth': 0.0, 'preciptype': None, 'windgust': None, 'windspeed': 16.1, 'winddir': 227.0, 'pressure': 986.7, 'visibility': 6.2, 'cloudcover': 59.8, 'solarradiation': 0.0, 'solarenergy': None, 'uvindex': 0.0, 'conditions': 'Partially cloudy', 'icon': 'partly-cloudy-night', 'stations': ['EGWU', 'D5621', 'EGLC'], 'source': 'obs', 'sunrise': '06:19:52', 'sunriseEpoch': 1678688392, 'sunset': '18:01:13', 'sunsetEpoch': 1678730473, 'moonphase': 0.71}}\n"
     ]
    }
   ],
   "source": [
    "import requests\n",
    "import datetime as dt\n",
    "import json\n",
    "\n",
    "# Define endpoint parameters\n",
    "BASE_URL = 'https://weather.visualcrossing.com/VisualCrossingWebServices/rest/services/timeline'\n",
    "API_KEY = '3QULGS8KJPBECC4J3W7MPEF2T'\n",
    "location = 'London,UK'\n",
    "ts = dt.datetime.now()\n",
    "ts = int(ts.replace(minute=0, second=0, microsecond=0).utcnow().timestamp())\n",
    "ts_plus_12hours = ts + 3600 * 12\n",
    "\n",
    "# Construct API URL\n",
    "url = f\"{BASE_URL}/{location}/{ts}/{ts_plus_12hours}?key={API_KEY}\"\n",
    "print(url)\n",
    "\n",
    "# Send GET request to API endpoint\n",
    "# response = requests.get(url)\n",
    "headers = {\n",
    "    'Content-Type': \"application/json\"\n",
    "    }\n",
    "response = requests.request(\"GET\", url, headers=headers, data={})\n",
    "response.raise_for_status()\n",
    "json_data = response.json()\n",
    "weather = json_data[\"days\"]\n",
    "for i in weather:\n",
    "    weatherHours = i[\"hours\"]\n",
    "    json_string = json.dumps(weatherHours)\n",
    "    data = json.loads(json_string)\n",
    "\n",
    "# filter the list using a condition\n",
    "    filtered_list = [d for d in data if d[\"datetimeEpoch\"] >= ts and d['datetimeEpoch'] <= ts_plus_12hours]\n",
    "\n",
    "# convert the filtered list back to JSON\n",
    "    json_result = json.dumps(filtered_list)\n",
    "    i[\"hours\"] = json_result\n",
    "json_data[\"days\"] = weather\n",
    "\n",
    "# Check response status code\n",
    "if response.status_code == 200:\n",
    "    # Print response content\n",
    "    print(json_data)\n",
    "else:\n",
    "    # Print error message\n",
    "    print(f\"Error: {response.status_code}\")"
   ]
  },
  {
   "cell_type": "code",
   "execution_count": null,
   "id": "e7d74049",
   "metadata": {},
   "outputs": [],
   "source": []
  }
 ],
 "metadata": {
  "kernelspec": {
   "display_name": "Python 3 (ipykernel)",
   "language": "python",
   "name": "python3"
  },
  "language_info": {
   "codemirror_mode": {
    "name": "ipython",
    "version": 3
   },
   "file_extension": ".py",
   "mimetype": "text/x-python",
   "name": "python",
   "nbconvert_exporter": "python",
   "pygments_lexer": "ipython3",
   "version": "3.9.5"
  }
 },
 "nbformat": 4,
 "nbformat_minor": 5
}
