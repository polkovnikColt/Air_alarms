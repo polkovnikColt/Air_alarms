{
 "cells": [
  {
   "cell_type": "code",
   "execution_count": 10,
   "id": "aaf4b2c0",
   "metadata": {
    "scrolled": false
   },
   "outputs": [],
   "source": [
    "from utils import weatherapi\n",
    "import os"
   ]
  },
  {
   "cell_type": "code",
   "execution_count": 6,
   "id": "e7d74049",
   "metadata": {},
   "outputs": [
    {
     "name": "stdout",
     "output_type": "stream",
     "text": [
      "https://weather.visualcrossing.com/VisualCrossingWebServices/rest/services/timeline/London,UK/1681025245/1681068445?key=None\n"
     ]
    },
    {
     "ename": "HTTPError",
     "evalue": "401 Client Error:  for url: https://weather.visualcrossing.com/VisualCrossingWebServices/rest/services/timeline/London,UK/1681025245/1681068445?key=None",
     "output_type": "error",
     "traceback": [
      "\u001b[0;31m---------------------------------------------------------------------------\u001b[0m",
      "\u001b[0;31mHTTPError\u001b[0m                                 Traceback (most recent call last)",
      "Cell \u001b[0;32mIn[6], line 3\u001b[0m\n\u001b[1;32m      1\u001b[0m location \u001b[38;5;241m=\u001b[39m \u001b[38;5;124m'\u001b[39m\u001b[38;5;124mLondon,UK\u001b[39m\u001b[38;5;124m'\u001b[39m\n\u001b[1;32m      2\u001b[0m date \u001b[38;5;241m=\u001b[39m \u001b[38;5;124m'\u001b[39m\u001b[38;5;124m2023-04-09\u001b[39m\u001b[38;5;124m'\u001b[39m\n\u001b[0;32m----> 3\u001b[0m \u001b[38;5;28mprint\u001b[39m(\u001b[43mweatherapi\u001b[49m\u001b[38;5;241;43m.\u001b[39;49m\u001b[43mget_weather_json\u001b[49m\u001b[43m(\u001b[49m\u001b[43mlocation\u001b[49m\u001b[43m,\u001b[49m\u001b[43m \u001b[49m\u001b[43mdate\u001b[49m\u001b[43m)\u001b[49m)\n",
      "File \u001b[0;32m~/Desktop/Education/SystemDesign/Air_alarms/utils/weatherapi.py:27\u001b[0m, in \u001b[0;36mget_weather_json\u001b[0;34m(location, date_str)\u001b[0m\n\u001b[1;32m     <a href='file:///Users/dusty3ntity/Desktop/Education/SystemDesign/Air_alarms/utils/weatherapi.py?line=22'>23</a>\u001b[0m headers \u001b[39m=\u001b[39m {\n\u001b[1;32m     <a href='file:///Users/dusty3ntity/Desktop/Education/SystemDesign/Air_alarms/utils/weatherapi.py?line=23'>24</a>\u001b[0m \t\t\u001b[39m'\u001b[39m\u001b[39mContent-Type\u001b[39m\u001b[39m'\u001b[39m: \u001b[39m\"\u001b[39m\u001b[39mapplication/json\u001b[39m\u001b[39m\"\u001b[39m\n\u001b[1;32m     <a href='file:///Users/dusty3ntity/Desktop/Education/SystemDesign/Air_alarms/utils/weatherapi.py?line=24'>25</a>\u001b[0m \t\t}\n\u001b[1;32m     <a href='file:///Users/dusty3ntity/Desktop/Education/SystemDesign/Air_alarms/utils/weatherapi.py?line=25'>26</a>\u001b[0m response \u001b[39m=\u001b[39m requests\u001b[39m.\u001b[39mrequest(\u001b[39m\"\u001b[39m\u001b[39mGET\u001b[39m\u001b[39m\"\u001b[39m, url, headers\u001b[39m=\u001b[39mheaders, data\u001b[39m=\u001b[39m{})\n\u001b[0;32m---> <a href='file:///Users/dusty3ntity/Desktop/Education/SystemDesign/Air_alarms/utils/weatherapi.py?line=26'>27</a>\u001b[0m response\u001b[39m.\u001b[39;49mraise_for_status()\n\u001b[1;32m     <a href='file:///Users/dusty3ntity/Desktop/Education/SystemDesign/Air_alarms/utils/weatherapi.py?line=27'>28</a>\u001b[0m json_data \u001b[39m=\u001b[39m response\u001b[39m.\u001b[39mjson()\n\u001b[1;32m     <a href='file:///Users/dusty3ntity/Desktop/Education/SystemDesign/Air_alarms/utils/weatherapi.py?line=28'>29</a>\u001b[0m weather \u001b[39m=\u001b[39m json_data[\u001b[39m\"\u001b[39m\u001b[39mdays\u001b[39m\u001b[39m\"\u001b[39m]\n",
      "File \u001b[0;32m/opt/homebrew/lib/python3.11/site-packages/requests/models.py:1021\u001b[0m, in \u001b[0;36mResponse.raise_for_status\u001b[0;34m(self)\u001b[0m\n\u001b[1;32m   <a href='file:///opt/homebrew/lib/python3.11/site-packages/requests/models.py?line=1015'>1016</a>\u001b[0m     http_error_msg \u001b[39m=\u001b[39m (\n\u001b[1;32m   <a href='file:///opt/homebrew/lib/python3.11/site-packages/requests/models.py?line=1016'>1017</a>\u001b[0m         \u001b[39mf\u001b[39m\u001b[39m\"\u001b[39m\u001b[39m{\u001b[39;00m\u001b[39mself\u001b[39m\u001b[39m.\u001b[39mstatus_code\u001b[39m}\u001b[39;00m\u001b[39m Server Error: \u001b[39m\u001b[39m{\u001b[39;00mreason\u001b[39m}\u001b[39;00m\u001b[39m for url: \u001b[39m\u001b[39m{\u001b[39;00m\u001b[39mself\u001b[39m\u001b[39m.\u001b[39murl\u001b[39m}\u001b[39;00m\u001b[39m\"\u001b[39m\n\u001b[1;32m   <a href='file:///opt/homebrew/lib/python3.11/site-packages/requests/models.py?line=1017'>1018</a>\u001b[0m     )\n\u001b[1;32m   <a href='file:///opt/homebrew/lib/python3.11/site-packages/requests/models.py?line=1019'>1020</a>\u001b[0m \u001b[39mif\u001b[39;00m http_error_msg:\n\u001b[0;32m-> <a href='file:///opt/homebrew/lib/python3.11/site-packages/requests/models.py?line=1020'>1021</a>\u001b[0m     \u001b[39mraise\u001b[39;00m HTTPError(http_error_msg, response\u001b[39m=\u001b[39m\u001b[39mself\u001b[39m)\n",
      "\u001b[0;31mHTTPError\u001b[0m: 401 Client Error:  for url: https://weather.visualcrossing.com/VisualCrossingWebServices/rest/services/timeline/London,UK/1681025245/1681068445?key=None"
     ]
    }
   ],
   "source": [
    "location = 'London,UK'\n",
    "date = '2023-04-09'\n",
    "print(weatherapi.get_weather_json(location, date))"
   ]
  },
  {
   "cell_type": "code",
   "execution_count": null,
   "id": "3dd29029",
   "metadata": {},
   "outputs": [],
   "source": []
  }
 ],
 "metadata": {
  "interpreter": {
   "hash": "b0fa6594d8f4cbf19f97940f81e996739fb7646882a419484c72d19e05852a7e"
  },
  "kernelspec": {
   "display_name": "Python 3.11.2 64-bit",
   "language": "python",
   "name": "python3"
  },
  "language_info": {
   "codemirror_mode": {
    "name": "ipython",
    "version": 3
   },
   "file_extension": ".py",
   "mimetype": "text/x-python",
   "name": "python",
   "nbconvert_exporter": "python",
   "pygments_lexer": "ipython3",
   "version": "3.11.2"
  }
 },
 "nbformat": 4,
 "nbformat_minor": 5
}
